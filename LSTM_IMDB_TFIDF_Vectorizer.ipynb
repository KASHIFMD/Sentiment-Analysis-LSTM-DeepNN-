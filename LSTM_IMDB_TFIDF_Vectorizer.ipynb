{
  "cells": [
    {
      "cell_type": "markdown",
      "metadata": {
        "id": "Ig71SebOKdIA"
      },
      "source": [
        "\n",
        "# LSTM for sequence classification in the IMDB dataset"
      ]
    },
    {
      "cell_type": "code",
      "execution_count": 3,
      "metadata": {
        "id": "Jr4cugH3mZ_X"
      },
      "outputs": [],
      "source": [
        "from keras.models import Sequential\n",
        "# from sklearn.externals import joblib\n",
        "import numpy\n",
        "import pandas as pd\n",
        "from keras.datasets import imdb\n",
        "from sklearn import model_selection\n",
        "from keras.models import Sequential \n",
        "from keras.layers import Dense\n",
        "from keras.layers import LSTM\n",
        "from keras.layers.embeddings import Embedding\n",
        "from keras.preprocessing import sequence\n",
        "from sklearn.model_selection import train_test_split\n",
        "import scipy\n",
        "import pickle\n",
        "\n",
        "# fix random seed for reproducibility\n",
        "numpy.random.seed(7)\n"
      ]
    },
    {
      "cell_type": "markdown",
      "metadata": {
        "id": "yFYHlkq6KdIJ"
      },
      "source": [
        "# Load Data"
      ]
    },
    {
      "cell_type": "code",
      "execution_count": 4,
      "metadata": {
        "id": "Kjf2yM5GF4_8"
      },
      "outputs": [],
      "source": [
        "df = pd.read_csv(\"IMDB Dataset_Updated.csv\", header=0)\n",
        "df.head()\n",
        "X = df['review']\n",
        "y = df['sentiment']\n"
      ]
    },
    {
      "cell_type": "code",
      "execution_count": 5,
      "metadata": {
        "id": "UenMPLTpKoyb"
      },
      "outputs": [],
      "source": [
        "# from google.colab import drive\n",
        "# drive.mount('/content/drive')"
      ]
    },
    {
      "cell_type": "markdown",
      "metadata": {
        "id": "etxXLp4iKdIM"
      },
      "source": [
        "* convert target variable into binary format"
      ]
    },
    {
      "cell_type": "code",
      "execution_count": 6,
      "metadata": {
        "colab": {
          "base_uri": "https://localhost:8080/"
        },
        "id": "E8-3oodWKdIN",
        "outputId": "36d992ff-fb71-4341-acde-a029b0bd4282"
      },
      "outputs": [
        {
          "name": "stdout",
          "output_type": "stream",
          "text": [
            "0    1\n",
            "1    1\n",
            "2    1\n",
            "3    0\n",
            "4    1\n",
            "Name: sentiment, dtype: int64\n"
          ]
        }
      ],
      "source": [
        "def function(x):\n",
        "    if x=='positive':\n",
        "        return 1\n",
        "    else:\n",
        "        return 0\n",
        "\n",
        "y= y.apply(function)\n",
        "print(y[:5])"
      ]
    },
    {
      "cell_type": "markdown",
      "metadata": {
        "id": "iYvYX1VMKdIP"
      },
      "source": [
        "# Text to vectorizer"
      ]
    },
    {
      "cell_type": "code",
      "execution_count": 7,
      "metadata": {
        "id": "thyE74MuKdIQ"
      },
      "outputs": [],
      "source": [
        "from sklearn.feature_extraction.text import CountVectorizer\n",
        "from sklearn.feature_extraction.text import TfidfVectorizer\n",
        "import pandas as pd\n",
        "from sklearn.model_selection import train_test_split\n",
        "from scipy.sparse import csr_matrix\n"
      ]
    },
    {
      "cell_type": "code",
      "execution_count": 8,
      "metadata": {
        "id": "D-FHoQj1KdIS"
      },
      "outputs": [],
      "source": [
        "\n",
        "X_train, X_test, y_train, y_test = train_test_split(X, y, test_size=0.5, random_state=0)\n"
      ]
    },
    {
      "cell_type": "code",
      "execution_count": 9,
      "metadata": {
        "colab": {
          "base_uri": "https://localhost:8080/"
        },
        "id": "1ANi0v0OKdIT",
        "outputId": "e494aa8d-93d0-4bba-9e0a-2e438aff2a04"
      },
      "outputs": [
        {
          "data": {
            "text/plain": [
              "21626    Portrays the day to day stark reality of survi...\n",
              "4521     This was an interesting study in societal sexu...\n",
              "3652     Prior to Airport 79' these movies were rather ...\n",
              "22212    This is without doubt the most exciting and sa...\n",
              "17669    Maybe I'm alone here, but this is a crap show....\n",
              "Name: review, dtype: object"
            ]
          },
          "execution_count": 9,
          "metadata": {},
          "output_type": "execute_result"
        }
      ],
      "source": [
        "X_train.head(5)"
      ]
    },
    {
      "cell_type": "code",
      "execution_count": 10,
      "metadata": {
        "id": "RF9a2oduKdIU"
      },
      "outputs": [],
      "source": [
        "def create_document_term_matrix(message_list, vectorizer):\n",
        "    # doc_term_matrix = vectorizer.fit_transform(message_list)\n",
        "    helper = vectorizer.fit(message_list)\n",
        "    # return pd.DataFrame(doc_term_matrix.toarray(), columns=vectorizer.get_feature_names_out()), helper\n",
        "    return helper\n",
        "\n",
        "\n",
        "\n",
        "top_words = 5000\n",
        "count_vect = TfidfVectorizer(max_features=top_words)\n",
        "helper = create_document_term_matrix(X_train, count_vect)\n"
      ]
    },
    {
      "cell_type": "code",
      "execution_count": 14,
      "metadata": {},
      "outputs": [
        {
          "ename": "TypeError",
          "evalue": "object of type 'TfidfVectorizer' has no len()",
          "output_type": "error",
          "traceback": [
            "\u001b[1;31m---------------------------------------------------------------------------\u001b[0m",
            "\u001b[1;31mTypeError\u001b[0m                                 Traceback (most recent call last)",
            "\u001b[1;32m~\\AppData\\Local\\Temp/ipykernel_48452/1203432978.py\u001b[0m in \u001b[0;36m<module>\u001b[1;34m\u001b[0m\n\u001b[1;32m----> 1\u001b[1;33m \u001b[0mlen\u001b[0m\u001b[1;33m(\u001b[0m\u001b[0mhelper\u001b[0m\u001b[1;33m)\u001b[0m\u001b[1;33m\u001b[0m\u001b[1;33m\u001b[0m\u001b[0m\n\u001b[0m",
            "\u001b[1;31mTypeError\u001b[0m: object of type 'TfidfVectorizer' has no len()"
          ]
        }
      ],
      "source": [
        "len(helper)"
      ]
    },
    {
      "cell_type": "code",
      "execution_count": 19,
      "metadata": {
        "colab": {
          "base_uri": "https://localhost:8080/"
        },
        "id": "TCF8V6HMKdIV",
        "outputId": "ff1991ea-be11-44ef-8862-613ab8caea08"
      },
      "outputs": [
        {
          "data": {
            "text/plain": [
              "21626    Portrays the day to day stark reality of survi...\n",
              "4521     This was an interesting study in societal sexu...\n",
              "3652     Prior to Airport 79' these movies were rather ...\n",
              "22212    This is without doubt the most exciting and sa...\n",
              "17669    Maybe I'm alone here, but this is a crap show....\n",
              "Name: review, dtype: object"
            ]
          },
          "execution_count": 19,
          "metadata": {},
          "output_type": "execute_result"
        }
      ],
      "source": [
        "X_train.head(5)"
      ]
    },
    {
      "cell_type": "code",
      "execution_count": 20,
      "metadata": {
        "colab": {
          "base_uri": "https://localhost:8080/"
        },
        "id": "1KrSOuMFKdIW",
        "outputId": "d8b8d729-2146-4ebd-c12f-d1d421e94b59"
      },
      "outputs": [
        {
          "data": {
            "text/plain": [
              "25000"
            ]
          },
          "execution_count": 20,
          "metadata": {},
          "output_type": "execute_result"
        }
      ],
      "source": [
        "X_train.shape[0]\n"
      ]
    },
    {
      "cell_type": "code",
      "execution_count": 21,
      "metadata": {
        "colab": {
          "base_uri": "https://localhost:8080/"
        },
        "id": "_07foF3EKdIX",
        "outputId": "5f462a91-f79f-4968-febb-44bbda72bbed"
      },
      "outputs": [
        {
          "name": "stdout",
          "output_type": "stream",
          "text": [
            "[4990 4862 4514 4463 4452 4449 4437 4334 4167 3963 3828 3567 3566 3563\n",
            " 3553 3421 3363 3171 3132 3128 3111 3100 3067 2947 2758 2627 2463 2285\n",
            " 1707 1558 1337 1158  648  550  478  289  244  108  102]\n",
            "[4991 4990 4976 4975 4957 4917 4890 4876 4875 4870 4866 4854 4815 4787\n",
            " 4754 4737 4606 4519 4514 4468 4463 4437 4435 4275 4257 4243 4125 3963\n",
            " 3938 3923 3922 3855 3815 3700 3577 3320 3252 3215 3174 3172 3144 3127\n",
            " 3111 3099 3067 3025 2975 2947 2914 2770 2746 2716 2620 2582 2569 2512\n",
            " 2491 2391 2385 2351 2285 2251 2236 2149 2142 2119 2090 2085 2076 2034\n",
            " 1990 1962 1909 1880 1870 1812 1645 1568 1492 1344 1268 1186 1144 1059\n",
            " 1045  911  806  767  719  671  642  563  506  364  333  315  302  230\n",
            "  228  191  102   70]\n",
            "[4965 4917 4901 4881 4879 4875 4866 4858 4815 4814 4737 4706 4690 4573\n",
            " 4529 4515 4514 4463 4459 4452 4451 4449 4437 4370 4283 4204 4165 4111\n",
            " 3955 3873 3826 3576 3572 3547 3423 3407 3347 3172 3166 3160 3144 3136\n",
            " 3132 3111 2975 2955 2948 2947 2804 2758 2737 2674 2627 2608 2516 2481\n",
            " 2463 2431 2429 2391 2389 2387 2385 2285 2243 2213 2198 2158 2113 2102\n",
            " 2090 2076 2034 1962 1952 1926 1878 1870 1846 1812 1749 1719 1677 1654\n",
            " 1635 1544 1453 1443 1344 1340 1337 1292 1268 1243 1194 1176 1118 1031\n",
            "  938  719  712  642  502  479  470  456  441  384  333  315  289  230\n",
            "  228  204  198  191  172  169  107  102   70   61   24]\n"
          ]
        }
      ],
      "source": [
        "print(helper.transform([X_train.iloc[0]]).nonzero()[1])\n",
        "print(helper.transform([X_train.iloc[1]]).nonzero()[1])\n",
        "print(helper.transform([X_train.iloc[2]]).nonzero()[1])\n"
      ]
    },
    {
      "cell_type": "code",
      "execution_count": 22,
      "metadata": {
        "colab": {
          "base_uri": "https://localhost:8080/"
        },
        "id": "P60-Q2IMKdIY",
        "outputId": "ece6d7e7-35f1-41d1-d7c1-137f722ab4fa"
      },
      "outputs": [
        {
          "name": "stdout",
          "output_type": "stream",
          "text": [
            "[4990 4862 4514 4463 4452 4449 4437 4334 4167 3963 3828 3567 3566 3563\n",
            " 3553 3421 3363 3171 3132 3128 3111 3100 3067 2947 2758 2627 2463 2285\n",
            " 1707 1558 1337 1158  648  550  478  289  244  108  102]\n"
          ]
        }
      ],
      "source": [
        "print(helper.transform([X_train.iloc[0]]).nonzero()[1])\n"
      ]
    },
    {
      "cell_type": "code",
      "execution_count": 23,
      "metadata": {
        "id": "C8in5-6rKdIY"
      },
      "outputs": [],
      "source": [
        "def function(x, temp):\n",
        "    temp.append(helper.transform(x).nonzero()[1])\n",
        "\n",
        "\n",
        "X_train_Vect = []\n",
        "X_test_Vect = []\n",
        "for i in range(X_train.shape[0]):\n",
        "    function([X_train.iloc[i]], X_train_Vect)\n",
        "for i in range(X_test.shape[0]):\n",
        "    function([X_test.iloc[i]], X_test_Vect)\n"
      ]
    },
    {
      "cell_type": "code",
      "execution_count": 24,
      "metadata": {
        "colab": {
          "base_uri": "https://localhost:8080/"
        },
        "id": "L0xY7Ub-KdIZ",
        "outputId": "8e5e4694-9acf-4c1e-8393-5c8e62569376"
      },
      "outputs": [
        {
          "name": "stdout",
          "output_type": "stream",
          "text": [
            "25000\n",
            "<class 'list'>\n"
          ]
        },
        {
          "data": {
            "text/plain": [
              "[array([4990, 4862, 4514, 4463, 4452, 4449, 4437, 4334, 4167, 3963, 3828,\n",
              "        3567, 3566, 3563, 3553, 3421, 3363, 3171, 3132, 3128, 3111, 3100,\n",
              "        3067, 2947, 2758, 2627, 2463, 2285, 1707, 1558, 1337, 1158,  648,\n",
              "         550,  478,  289,  244,  108,  102], dtype=int32),\n",
              " array([4991, 4990, 4976, 4975, 4957, 4917, 4890, 4876, 4875, 4870, 4866,\n",
              "        4854, 4815, 4787, 4754, 4737, 4606, 4519, 4514, 4468, 4463, 4437,\n",
              "        4435, 4275, 4257, 4243, 4125, 3963, 3938, 3923, 3922, 3855, 3815,\n",
              "        3700, 3577, 3320, 3252, 3215, 3174, 3172, 3144, 3127, 3111, 3099,\n",
              "        3067, 3025, 2975, 2947, 2914, 2770, 2746, 2716, 2620, 2582, 2569,\n",
              "        2512, 2491, 2391, 2385, 2351, 2285, 2251, 2236, 2149, 2142, 2119,\n",
              "        2090, 2085, 2076, 2034, 1990, 1962, 1909, 1880, 1870, 1812, 1645,\n",
              "        1568, 1492, 1344, 1268, 1186, 1144, 1059, 1045,  911,  806,  767,\n",
              "         719,  671,  642,  563,  506,  364,  333,  315,  302,  230,  228,\n",
              "         191,  102,   70], dtype=int32)]"
            ]
          },
          "execution_count": 24,
          "metadata": {},
          "output_type": "execute_result"
        }
      ],
      "source": [
        "print(len(X_train_Vect))\n",
        "print(type(X_train_Vect))\n",
        "# X_train_Vect\n",
        "X_train_Vect[0:2]\n"
      ]
    },
    {
      "cell_type": "markdown",
      "metadata": {
        "id": "_vAqVsLgKdIa"
      },
      "source": [
        "x = [[1, 2], [1, 2, 3], [1]]\n",
        "y = numpy.array([numpy.array(xi) for xi in x], dtype=object)\n",
        "print(y)"
      ]
    },
    {
      "cell_type": "code",
      "execution_count": 25,
      "metadata": {
        "colab": {
          "base_uri": "https://localhost:8080/"
        },
        "id": "sTbfA_cpKdIa",
        "outputId": "ce7f64a1-a791-42f3-b649-ecd4d3b109ac"
      },
      "outputs": [
        {
          "name": "stderr",
          "output_type": "stream",
          "text": [
            "C:\\Users\\kashi\\AppData\\Local\\Temp/ipykernel_35816/3141663967.py:3: VisibleDeprecationWarning: Creating an ndarray from ragged nested sequences (which is a list-or-tuple of lists-or-tuples-or ndarrays with different lengths or shapes) is deprecated. If you meant to do this, you must specify 'dtype=object' when creating the ndarray.\n",
            "  X_train_Vect = numpy.array([numpy.array(xi) for xi in X_train_Vect])\n",
            "C:\\Users\\kashi\\AppData\\Local\\Temp/ipykernel_35816/3141663967.py:4: VisibleDeprecationWarning: Creating an ndarray from ragged nested sequences (which is a list-or-tuple of lists-or-tuples-or ndarrays with different lengths or shapes) is deprecated. If you meant to do this, you must specify 'dtype=object' when creating the ndarray.\n",
            "  X_test_Vect = numpy.array([numpy.array(xi) for xi in X_test_Vect])\n"
          ]
        }
      ],
      "source": [
        "# X_train_Vect = numpy.array(X_train_Vect, ndmin = 2)\n",
        "# X_test_Vect = numpy.array(X_test_Vect, ndmin = 2)\n",
        "X_train_Vect = numpy.array([numpy.array(xi) for xi in X_train_Vect])\n",
        "X_test_Vect = numpy.array([numpy.array(xi) for xi in X_test_Vect])"
      ]
    },
    {
      "cell_type": "code",
      "execution_count": 26,
      "metadata": {
        "colab": {
          "base_uri": "https://localhost:8080/"
        },
        "id": "cPKAM1xRKdIb",
        "outputId": "aac0113c-b920-4157-cc6c-0d7e552ebf08"
      },
      "outputs": [
        {
          "data": {
            "text/plain": [
              "array([array([4990, 4862, 4514, 4463, 4452, 4449, 4437, 4334, 4167, 3963, 3828,\n",
              "              3567, 3566, 3563, 3553, 3421, 3363, 3171, 3132, 3128, 3111, 3100,\n",
              "              3067, 2947, 2758, 2627, 2463, 2285, 1707, 1558, 1337, 1158,  648,\n",
              "               550,  478,  289,  244,  108,  102], dtype=int32)                ,\n",
              "       array([4991, 4990, 4976, 4975, 4957, 4917, 4890, 4876, 4875, 4870, 4866,\n",
              "              4854, 4815, 4787, 4754, 4737, 4606, 4519, 4514, 4468, 4463, 4437,\n",
              "              4435, 4275, 4257, 4243, 4125, 3963, 3938, 3923, 3922, 3855, 3815,\n",
              "              3700, 3577, 3320, 3252, 3215, 3174, 3172, 3144, 3127, 3111, 3099,\n",
              "              3067, 3025, 2975, 2947, 2914, 2770, 2746, 2716, 2620, 2582, 2569,\n",
              "              2512, 2491, 2391, 2385, 2351, 2285, 2251, 2236, 2149, 2142, 2119,\n",
              "              2090, 2085, 2076, 2034, 1990, 1962, 1909, 1880, 1870, 1812, 1645,\n",
              "              1568, 1492, 1344, 1268, 1186, 1144, 1059, 1045,  911,  806,  767,\n",
              "               719,  671,  642,  563,  506,  364,  333,  315,  302,  230,  228,\n",
              "               191,  102,   70], dtype=int32)                                  ,\n",
              "       array([4965, 4917, 4901, 4881, 4879, 4875, 4866, 4858, 4815, 4814, 4737,\n",
              "              4706, 4690, 4573, 4529, 4515, 4514, 4463, 4459, 4452, 4451, 4449,\n",
              "              4437, 4370, 4283, 4204, 4165, 4111, 3955, 3873, 3826, 3576, 3572,\n",
              "              3547, 3423, 3407, 3347, 3172, 3166, 3160, 3144, 3136, 3132, 3111,\n",
              "              2975, 2955, 2948, 2947, 2804, 2758, 2737, 2674, 2627, 2608, 2516,\n",
              "              2481, 2463, 2431, 2429, 2391, 2389, 2387, 2385, 2285, 2243, 2213,\n",
              "              2198, 2158, 2113, 2102, 2090, 2076, 2034, 1962, 1952, 1926, 1878,\n",
              "              1870, 1846, 1812, 1749, 1719, 1677, 1654, 1635, 1544, 1453, 1443,\n",
              "              1344, 1340, 1337, 1292, 1268, 1243, 1194, 1176, 1118, 1031,  938,\n",
              "               719,  712,  642,  502,  479,  470,  456,  441,  384,  333,  315,\n",
              "               289,  230,  228,  204,  198,  191,  172,  169,  107,  102,   70,\n",
              "                61,   24], dtype=int32)                                        ,\n",
              "       array([4994, 4993, 4990, 4982, 4919, 4917, 4879, 4876, 4870, 4750, 4742,\n",
              "              4741, 4737, 4730, 4711, 4703, 4654, 4610, 4514, 4504, 4502, 4499,\n",
              "              4484, 4476, 4467, 4463, 4452, 4449, 4447, 4446, 4443, 4437, 4435,\n",
              "              4394, 4364, 4363, 4362, 4356, 4342, 4338, 4310, 4221, 4204, 4193,\n",
              "              4160, 4111, 4109, 4094, 4080, 4060, 4009, 3997, 3974, 3973, 3972,\n",
              "              3961, 3946, 3938, 3927, 3883, 3879, 3870, 3844, 3832, 3826, 3815,\n",
              "              3807, 3794, 3572, 3553, 3516, 3422, 3407, 3394, 3341, 3332, 3318,\n",
              "              3312, 3301, 3299, 3255, 3226, 3182, 3161, 3160, 3149, 3140, 3136,\n",
              "              3134, 3132, 3112, 3111, 3067, 3045, 3025, 2975, 2962, 2955, 2949,\n",
              "              2931, 2918, 2912, 2907, 2899, 2805, 2746, 2648, 2636, 2624, 2608,\n",
              "              2573, 2544, 2516, 2475, 2463, 2391, 2385, 2285, 2278, 2276, 2220,\n",
              "              2215, 2149, 2142, 2125, 2119, 2113, 2099, 2090, 2086, 2085, 2076,\n",
              "              2009, 1990, 1962, 1958, 1949, 1944, 1886, 1870, 1869, 1812, 1792,\n",
              "              1763, 1741, 1700, 1664, 1640, 1638, 1588, 1579, 1564, 1541, 1495,\n",
              "              1489, 1453, 1443, 1428, 1417, 1409, 1375, 1355, 1346, 1337, 1330,\n",
              "              1282, 1261, 1228, 1223, 1164, 1146, 1144, 1075, 1031,  939,  885,\n",
              "               770,  767,  698,  671,  665,  648,  642,  563,  550,  462,  421,\n",
              "               384,  380,  345,  334,  333,  315,  302,  289,  286,  277,  230,\n",
              "               198,  191,  148,  120,  113,   70], dtype=int32)                ,\n",
              "       array([4993, 4990, 4972, 4970, 4917, 4875, 4870, 4836, 4819, 4815, 4696,\n",
              "              4693, 4619, 4610, 4609, 4593, 4530, 4529, 4517, 4514, 4504, 4502,\n",
              "              4463, 4452, 4449, 4437, 4366, 4250, 4124, 4089, 4079, 4075, 4004,\n",
              "              3967, 3961, 3815, 3166, 3155, 3111, 3067, 3045, 3024, 3010, 2955,\n",
              "              2921, 2804, 2802, 2792, 2739, 2687, 2555, 2463, 2394, 2387, 2385,\n",
              "              2359, 2336, 2285, 2243, 2220, 2205, 2179, 2149, 2143, 2142, 2129,\n",
              "              2120, 2090, 2076, 2063, 2034, 1962, 1930, 1908, 1885, 1870, 1843,\n",
              "              1840, 1812, 1654, 1558, 1269, 1054,  900,  662,  642,  558,  551,\n",
              "               484,  421,  289,  275,  254,  230,  199,  100,   70], dtype=int32)],\n",
              "      dtype=object)"
            ]
          },
          "execution_count": 26,
          "metadata": {},
          "output_type": "execute_result"
        }
      ],
      "source": [
        "X_train_Vect[:5]\n"
      ]
    },
    {
      "cell_type": "markdown",
      "metadata": {
        "id": "uVzx2GoVKdIc"
      },
      "source": [
        "# Read Pickle File"
      ]
    },
    {
      "cell_type": "code",
      "execution_count": 27,
      "metadata": {
        "id": "79aUa1WxKdIc"
      },
      "outputs": [],
      "source": [
        "# import pickle\n",
        "# def load_model():\n",
        "#     with open('data_IMDB_pickle.pkl', 'rb') as file:\n",
        "#         data = pickle.load(file)\n",
        "#     return data\n",
        "\n",
        "\n",
        "# data = load_model()\n",
        "# X_train = data['X_train']\n",
        "# y_train = data['y_train']\n",
        "# X_test = data['X_test']\n",
        "# y_test = data['y_test']\n"
      ]
    },
    {
      "cell_type": "code",
      "execution_count": 28,
      "metadata": {
        "colab": {
          "base_uri": "https://localhost:8080/"
        },
        "id": "kbuszMw0KdId",
        "outputId": "fa495944-2a2f-4ca0-90ec-1d342e496a86"
      },
      "outputs": [
        {
          "name": "stdout",
          "output_type": "stream",
          "text": [
            "[4990 4862 4514 4463 4452 4449 4437 4334 4167 3963 3828 3567 3566 3563\n",
            " 3553 3421 3363 3171 3132 3128 3111 3100 3067 2947 2758 2627 2463 2285\n",
            " 1707 1558 1337 1158  648  550  478  289  244  108  102]\n",
            "39\n",
            "<class 'numpy.ndarray'>\n"
          ]
        }
      ],
      "source": [
        "# X_train = list(X_train)\n",
        "print(X_train_Vect[0])\n",
        "print(len(X_train_Vect[0]))\n",
        "print(type(X_train_Vect))\n"
      ]
    },
    {
      "cell_type": "code",
      "execution_count": 29,
      "metadata": {
        "colab": {
          "base_uri": "https://localhost:8080/"
        },
        "id": "2-e5YWfTKdIe",
        "outputId": "7d49ac06-63d0-4ab2-8514-5a5631ff8ce9"
      },
      "outputs": [
        {
          "name": "stdout",
          "output_type": "stream",
          "text": [
            "21626    1\n",
            "4521     1\n",
            "3652     0\n",
            "22212    1\n",
            "17669    0\n",
            "35681    0\n",
            "38147    0\n",
            "2741     1\n",
            "27522    1\n",
            "46900    1\n",
            "Name: sentiment, dtype: int64\n",
            "<class 'pandas.core.series.Series'>\n"
          ]
        }
      ],
      "source": [
        "# y_train = list(y_train)\n",
        "print(y_train[:10])\n",
        "print(type(y_train))\n"
      ]
    },
    {
      "cell_type": "code",
      "execution_count": 30,
      "metadata": {
        "colab": {
          "base_uri": "https://localhost:8080/"
        },
        "id": "rtbTCMlJKdIe",
        "outputId": "77a00869-821f-4377-fe1b-a6ddf3896a5b"
      },
      "outputs": [
        {
          "name": "stdout",
          "output_type": "stream",
          "text": [
            "25000\n",
            "25000\n",
            "25000\n",
            "25000\n"
          ]
        }
      ],
      "source": [
        "print(len(X_train_Vect))\n",
        "print(len(y_train)) \n",
        "print(len(X_test)) \n",
        "print(len(y_test)) \n"
      ]
    },
    {
      "cell_type": "code",
      "execution_count": 31,
      "metadata": {
        "colab": {
          "base_uri": "https://localhost:8080/"
        },
        "id": "2JrAnjs7KdIe",
        "outputId": "7d59ea96-564f-402f-eb2f-2018614ad526"
      },
      "outputs": [
        {
          "data": {
            "text/plain": [
              "array([array([4990, 4862, 4514, 4463, 4452, 4449, 4437, 4334, 4167, 3963, 3828,\n",
              "              3567, 3566, 3563, 3553, 3421, 3363, 3171, 3132, 3128, 3111, 3100,\n",
              "              3067, 2947, 2758, 2627, 2463, 2285, 1707, 1558, 1337, 1158,  648,\n",
              "               550,  478,  289,  244,  108,  102], dtype=int32)                ,\n",
              "       array([4991, 4990, 4976, 4975, 4957, 4917, 4890, 4876, 4875, 4870, 4866,\n",
              "              4854, 4815, 4787, 4754, 4737, 4606, 4519, 4514, 4468, 4463, 4437,\n",
              "              4435, 4275, 4257, 4243, 4125, 3963, 3938, 3923, 3922, 3855, 3815,\n",
              "              3700, 3577, 3320, 3252, 3215, 3174, 3172, 3144, 3127, 3111, 3099,\n",
              "              3067, 3025, 2975, 2947, 2914, 2770, 2746, 2716, 2620, 2582, 2569,\n",
              "              2512, 2491, 2391, 2385, 2351, 2285, 2251, 2236, 2149, 2142, 2119,\n",
              "              2090, 2085, 2076, 2034, 1990, 1962, 1909, 1880, 1870, 1812, 1645,\n",
              "              1568, 1492, 1344, 1268, 1186, 1144, 1059, 1045,  911,  806,  767,\n",
              "               719,  671,  642,  563,  506,  364,  333,  315,  302,  230,  228,\n",
              "               191,  102,   70], dtype=int32)                                  ,\n",
              "       array([4965, 4917, 4901, 4881, 4879, 4875, 4866, 4858, 4815, 4814, 4737,\n",
              "              4706, 4690, 4573, 4529, 4515, 4514, 4463, 4459, 4452, 4451, 4449,\n",
              "              4437, 4370, 4283, 4204, 4165, 4111, 3955, 3873, 3826, 3576, 3572,\n",
              "              3547, 3423, 3407, 3347, 3172, 3166, 3160, 3144, 3136, 3132, 3111,\n",
              "              2975, 2955, 2948, 2947, 2804, 2758, 2737, 2674, 2627, 2608, 2516,\n",
              "              2481, 2463, 2431, 2429, 2391, 2389, 2387, 2385, 2285, 2243, 2213,\n",
              "              2198, 2158, 2113, 2102, 2090, 2076, 2034, 1962, 1952, 1926, 1878,\n",
              "              1870, 1846, 1812, 1749, 1719, 1677, 1654, 1635, 1544, 1453, 1443,\n",
              "              1344, 1340, 1337, 1292, 1268, 1243, 1194, 1176, 1118, 1031,  938,\n",
              "               719,  712,  642,  502,  479,  470,  456,  441,  384,  333,  315,\n",
              "               289,  230,  228,  204,  198,  191,  172,  169,  107,  102,   70,\n",
              "                61,   24], dtype=int32)                                        ,\n",
              "       ...,\n",
              "       array([4982, 4917, 4881, 4879, 4875, 4854, 4782, 4737, 4686, 4655, 4619,\n",
              "              4610, 4594, 4529, 4514, 4502, 4476, 4470, 4463, 4449, 4441, 4437,\n",
              "              4365, 4322, 4221, 4204, 4192, 3828, 3771, 3689, 3676, 3618, 3560,\n",
              "              3215, 3200, 3155, 3134, 3132, 3111, 3079, 3072, 3067, 3031, 3015,\n",
              "              3002, 2931, 2927, 2877, 2875, 2758, 2506, 2463, 2394, 2391, 2385,\n",
              "              2375, 2285, 2251, 2210, 2085, 2076, 2012, 1990, 1962, 1870, 1763,\n",
              "              1749, 1742, 1741, 1721, 1695, 1621, 1544, 1489, 1351, 1336, 1328,\n",
              "              1251, 1031, 1026,  858,  783,  719,  648,  642,  563,  538,  492,\n",
              "               441,  421,  334,  315,  311,  289,  251,  230,  228,  213,  191,\n",
              "               148,  113,   24], dtype=int32)                                  ,\n",
              "       array([4994, 4990, 4988, 4976, 4972, 4932, 4917, 4858, 4857, 4854, 4836,\n",
              "              4822, 4815, 4780, 4629, 4619, 4529, 4514, 4502, 4469, 4468, 4463,\n",
              "              4461, 4451, 4437, 4435, 4221, 4082, 4079, 4075, 3970, 3911, 3903,\n",
              "              3879, 3871, 3844, 3828, 3810, 3563, 3470, 3347, 3255, 3215, 3132,\n",
              "              3128, 3111, 3067, 3045, 2914, 2784, 2723, 2695, 2607, 2577, 2549,\n",
              "              2516, 2439, 2391, 2285, 2266, 2251, 2245, 2196, 2076, 2034, 1919,\n",
              "              1870, 1812, 1767, 1763, 1741, 1721, 1671, 1563, 1529, 1503, 1448,\n",
              "              1304, 1275, 1268, 1144, 1037,  905,  680,  642,  481,  470,  289,\n",
              "               230,  211,  191,  151], dtype=int32)                            ,\n",
              "       array([4961, 4893, 4875, 4866, 4858, 4854, 4853, 4836, 4835, 4815, 4754,\n",
              "              4752, 4697, 4696, 4629, 4619, 4606, 4514, 4479, 4463, 4451, 4437,\n",
              "              4435, 4431, 4342, 4329, 4318, 4300, 4223, 4060, 3974, 3967, 3942,\n",
              "              3933, 3911, 3807, 3664, 3567, 3563, 3542, 3504, 3500, 3479, 3396,\n",
              "              3172, 3132, 3111, 3067, 3031, 2955, 2895, 2873, 2766, 2758, 2723,\n",
              "              2707, 2652, 2603, 2580, 2385, 2285, 2230, 2090, 2076, 1970, 1910,\n",
              "              1908, 1812, 1699, 1679, 1579, 1521, 1412, 1369, 1330, 1192, 1112,\n",
              "               962,  769,  732,  657,  588,  558,  481,  476,  434,  407,  342,\n",
              "               315,  289,  230,  228,  220], dtype=int32)                      ],\n",
              "      dtype=object)"
            ]
          },
          "execution_count": 31,
          "metadata": {},
          "output_type": "execute_result"
        }
      ],
      "source": [
        "X_train_Vect"
      ]
    },
    {
      "cell_type": "code",
      "execution_count": 32,
      "metadata": {
        "colab": {
          "base_uri": "https://localhost:8080/"
        },
        "id": "kOH_G_zpKdIf",
        "outputId": "f7047daa-1375-4010-d078-8a41e5a06a6c"
      },
      "outputs": [
        {
          "name": "stdout",
          "output_type": "stream",
          "text": [
            "<class 'numpy.ndarray'>\n",
            "<class 'pandas.core.series.Series'>\n",
            "<class 'pandas.core.series.Series'>\n",
            "<class 'pandas.core.series.Series'>\n"
          ]
        }
      ],
      "source": [
        "print(type(X_train_Vect))\n",
        "print(type(y_train))\n",
        "print(type(X_test))\n",
        "print(type(y_test))\n"
      ]
    },
    {
      "cell_type": "code",
      "execution_count": 33,
      "metadata": {
        "colab": {
          "base_uri": "https://localhost:8080/"
        },
        "id": "JL_-SUxaKdIf",
        "outputId": "abccee52-b2e2-4d92-b786-8ee35bd52cf8"
      },
      "outputs": [
        {
          "name": "stdout",
          "output_type": "stream",
          "text": [
            "<class 'numpy.ndarray'>\n",
            "<class 'numpy.ndarray'>\n",
            "<class 'numpy.ndarray'>\n",
            "<class 'numpy.ndarray'>\n"
          ]
        }
      ],
      "source": [
        "print(type(X_train_Vect))\n",
        "\n",
        "y_train = numpy.array(y_train)\n",
        "# y_train = list(y_train)\n",
        "print(type(y_train))\n",
        "\n",
        "print(type(X_test_Vect))\n",
        "\n",
        "y_test = numpy.array(y_test)\n",
        "# y_test = list(y_test)\n",
        "print(type(y_test))\n"
      ]
    },
    {
      "cell_type": "code",
      "execution_count": 34,
      "metadata": {
        "id": "wn1coShH7LvP"
      },
      "outputs": [],
      "source": [
        "# max(numpy.max(X_test_Vect))"
      ]
    },
    {
      "cell_type": "markdown",
      "metadata": {
        "id": "NVZW0Xr_KdIg"
      },
      "source": [
        "# Truncate and/or pad input sequences"
      ]
    },
    {
      "cell_type": "code",
      "execution_count": 35,
      "metadata": {
        "colab": {
          "base_uri": "https://localhost:8080/"
        },
        "id": "57N6TyKLH-Pc",
        "outputId": "699b1881-0625-4d0c-f295-3420bfd9ab73"
      },
      "outputs": [
        {
          "name": "stdout",
          "output_type": "stream",
          "text": [
            "(25000, 600)\n"
          ]
        }
      ],
      "source": [
        "# truncate and/or pad input sequences\n",
        "max_review_length = 600\n",
        "X_train_Vect = sequence.pad_sequences(X_train_Vect, maxlen=max_review_length)\n",
        "X_test_Vect = sequence.pad_sequences(X_test_Vect, maxlen=max_review_length)\n",
        "\n",
        "print(X_train_Vect.shape)\n"
      ]
    },
    {
      "cell_type": "markdown",
      "metadata": {
        "id": "BuSTGpjoKdIh"
      },
      "source": [
        "# Create the model"
      ]
    },
    {
      "cell_type": "code",
      "execution_count": 36,
      "metadata": {
        "colab": {
          "base_uri": "https://localhost:8080/"
        },
        "id": "jQzUOGxSKdIh",
        "outputId": "9c73d84e-dfe1-4fd4-8bc4-86f3dc83827f"
      },
      "outputs": [
        {
          "data": {
            "text/plain": [
              "<keras.engine.sequential.Sequential at 0x1cce745bb50>"
            ]
          },
          "execution_count": 36,
          "metadata": {},
          "output_type": "execute_result"
        }
      ],
      "source": [
        "Sequential()\n"
      ]
    },
    {
      "cell_type": "code",
      "execution_count": 37,
      "metadata": {
        "id": "lcxhzYcsKdIh"
      },
      "outputs": [],
      "source": [
        "# from keras import metrics\n",
        "# model.compile(loss='mse', optimizer='adam', metrics=[\n",
        "#               metrics.mean_squared_error, metrics.mean_absolute_error, metrics.mean_absolute_percentage_error, metrics.cosine_proximity])\n"
      ]
    },
    {
      "cell_type": "code",
      "execution_count": 38,
      "metadata": {
        "colab": {
          "base_uri": "https://localhost:8080/"
        },
        "id": "CquzlqrOIYGn",
        "outputId": "c6be3e5f-0f9a-4686-f39a-7e7a88eb6cfc"
      },
      "outputs": [
        {
          "name": "stdout",
          "output_type": "stream",
          "text": [
            "Model: \"sequential_1\"\n",
            "_________________________________________________________________\n",
            " Layer (type)                Output Shape              Param #   \n",
            "=================================================================\n",
            " embedding (Embedding)       (None, 600, 32)           160000    \n",
            "                                                                 \n",
            " lstm (LSTM)                 (None, 100)               53200     \n",
            "                                                                 \n",
            " dense (Dense)               (None, 1)                 101       \n",
            "                                                                 \n",
            "=================================================================\n",
            "Total params: 213,301\n",
            "Trainable params: 213,301\n",
            "Non-trainable params: 0\n",
            "_________________________________________________________________\n",
            "None\n"
          ]
        }
      ],
      "source": [
        "\n",
        "top_words = 5000\n",
        "embedding_vecor_length = 32\n",
        "model = Sequential()\n",
        "model.add(Embedding(top_words, embedding_vecor_length, input_length=max_review_length))\n",
        "model.add(LSTM(100))\n",
        "model.add(Dense(1, activation='sigmoid'))\n",
        "model.compile(loss='binary_crossentropy', optimizer='adam', metrics=['accuracy'])\n",
        "print(model.summary())\n"
      ]
    },
    {
      "cell_type": "markdown",
      "metadata": {
        "id": "OhZrJAINKdIi"
      },
      "source": [
        "# Final evaluation of the model"
      ]
    },
    {
      "cell_type": "code",
      "execution_count": 40,
      "metadata": {
        "colab": {
          "base_uri": "https://localhost:8080/"
        },
        "id": "A_FT0dPNIeLP",
        "outputId": "ed270ea4-66af-47b7-f45d-6ccc747a9848"
      },
      "outputs": [
        {
          "name": "stdout",
          "output_type": "stream",
          "text": [
            "391/391 [==============================] - 461s 1s/step - loss: 0.3669 - accuracy: 0.8442\n",
            "Accuracy: 86.82%\n"
          ]
        }
      ],
      "source": [
        "history = model.fit(X_train_Vect, y_train, epochs=1, batch_size=64)\n",
        "# Final evaluation of the model\n",
        "scores = model.evaluate(X_test_Vect, y_test, verbose=0)\n",
        "print(\"Accuracy: %.2f%%\" % (scores[1]*100))\n"
      ]
    },
    {
      "cell_type": "code",
      "execution_count": null,
      "metadata": {
        "colab": {
          "base_uri": "https://localhost:8080/"
        },
        "id": "_mmt1_6RKdIj",
        "outputId": "bda6b8b9-2204-4aea-bdc2-dc4568899803"
      },
      "outputs": [
        {
          "data": {
            "text/plain": [
              "<keras.engine.sequential.Sequential at 0x7f4dac0ad3d0>"
            ]
          },
          "execution_count": 34,
          "metadata": {},
          "output_type": "execute_result"
        }
      ],
      "source": [
        "model "
      ]
    },
    {
      "cell_type": "code",
      "execution_count": 47,
      "metadata": {},
      "outputs": [
        {
          "name": "stderr",
          "output_type": "stream",
          "text": [
            "WARNING:absl:Found untraced functions such as lstm_cell_3_layer_call_fn, lstm_cell_3_layer_call_and_return_conditional_losses while saving (showing 2 of 2). These functions will not be directly callable after loading.\n"
          ]
        },
        {
          "name": "stdout",
          "output_type": "stream",
          "text": [
            "INFO:tensorflow:Assets written to: ram://19496c14-233e-4321-b91e-0bf0afa30ef1/assets\n"
          ]
        },
        {
          "name": "stderr",
          "output_type": "stream",
          "text": [
            "INFO:tensorflow:Assets written to: ram://19496c14-233e-4321-b91e-0bf0afa30ef1/assets\n",
            "WARNING:absl:<keras.layers.recurrent.LSTMCell object at 0x000001CC904D0370> has the same name 'LSTMCell' as a built-in Keras object. Consider renaming <class 'keras.layers.recurrent.LSTMCell'> to avoid naming conflicts when loading with `tf.keras.models.load_model`. If renaming is not possible, pass the object in the `custom_objects` parameter of the load function.\n"
          ]
        }
      ],
      "source": [
        "# import pickle\n",
        "# data_IMDB = {\"helper\": helper, \"model\": model}\n",
        "# with open('data_IMDB_pickle_TFIDF03.pkl', 'wb') as file:\n",
        "#     pickle.dump(data_IMDB, file)\n",
        "\n",
        "\n",
        "# pickle.dump(helper, 'helper.pkl')\n",
        "\n",
        "# pickle.dump(model, 'model.pkl')\n",
        "# pickle.dump(helper, open('helper.pkl', 'wb'))\n",
        "# pickle.dump(model, open('model.pkl', 'wb'))\n"
      ]
    },
    {
      "cell_type": "code",
      "execution_count": 43,
      "metadata": {},
      "outputs": [
        {
          "ename": "FileNotFoundError",
          "evalue": "Unsuccessful TensorSliceReader constructor: Failed to find any matching files for ram://28ff7aba-6496-413b-8f3f-d2d1e993f99b/variables/variables\n You may be trying to load on a different device from the computational device. Consider setting the `experimental_io_device` option in `tf.saved_model.LoadOptions` to the io_device such as '/job:localhost'.",
          "output_type": "error",
          "traceback": [
            "\u001b[1;31m---------------------------------------------------------------------------\u001b[0m",
            "\u001b[1;31mFileNotFoundError\u001b[0m                         Traceback (most recent call last)",
            "\u001b[1;32m~\\AppData\\Local\\Temp/ipykernel_35816/1720695189.py\u001b[0m in \u001b[0;36m<module>\u001b[1;34m\u001b[0m\n\u001b[0;32m      5\u001b[0m \u001b[1;33m\u001b[0m\u001b[0m\n\u001b[0;32m      6\u001b[0m \u001b[1;33m\u001b[0m\u001b[0m\n\u001b[1;32m----> 7\u001b[1;33m \u001b[0mdata_IMDB\u001b[0m \u001b[1;33m=\u001b[0m \u001b[0mload_model\u001b[0m\u001b[1;33m(\u001b[0m\u001b[1;33m)\u001b[0m\u001b[1;33m\u001b[0m\u001b[1;33m\u001b[0m\u001b[0m\n\u001b[0m\u001b[0;32m      8\u001b[0m \u001b[0mhelper\u001b[0m \u001b[1;33m=\u001b[0m \u001b[0mdata_IMDB\u001b[0m\u001b[1;33m[\u001b[0m\u001b[1;34m\"helper\"\u001b[0m\u001b[1;33m]\u001b[0m\u001b[1;33m\u001b[0m\u001b[1;33m\u001b[0m\u001b[0m\n\u001b[0;32m      9\u001b[0m \u001b[0mmodel\u001b[0m \u001b[1;33m=\u001b[0m \u001b[0mdata_IMDB\u001b[0m\u001b[1;33m[\u001b[0m\u001b[1;34m\"model\"\u001b[0m\u001b[1;33m]\u001b[0m\u001b[1;33m\u001b[0m\u001b[1;33m\u001b[0m\u001b[0m\n",
            "\u001b[1;32m~\\AppData\\Local\\Temp/ipykernel_35816/1720695189.py\u001b[0m in \u001b[0;36mload_model\u001b[1;34m()\u001b[0m\n\u001b[0;32m      1\u001b[0m \u001b[1;32mdef\u001b[0m \u001b[0mload_model\u001b[0m\u001b[1;33m(\u001b[0m\u001b[1;33m)\u001b[0m\u001b[1;33m:\u001b[0m\u001b[1;33m\u001b[0m\u001b[1;33m\u001b[0m\u001b[0m\n\u001b[0;32m      2\u001b[0m     \u001b[1;32mwith\u001b[0m \u001b[0mopen\u001b[0m\u001b[1;33m(\u001b[0m\u001b[1;34m'data_IMDB_pickle_TFIDF03.pkl'\u001b[0m\u001b[1;33m,\u001b[0m \u001b[1;34m'rb'\u001b[0m\u001b[1;33m)\u001b[0m \u001b[1;32mas\u001b[0m \u001b[0mfile\u001b[0m\u001b[1;33m:\u001b[0m\u001b[1;33m\u001b[0m\u001b[1;33m\u001b[0m\u001b[0m\n\u001b[1;32m----> 3\u001b[1;33m         \u001b[0mdata\u001b[0m \u001b[1;33m=\u001b[0m \u001b[0mpickle\u001b[0m\u001b[1;33m.\u001b[0m\u001b[0mload\u001b[0m\u001b[1;33m(\u001b[0m\u001b[0mfile\u001b[0m\u001b[1;33m)\u001b[0m\u001b[1;33m\u001b[0m\u001b[1;33m\u001b[0m\u001b[0m\n\u001b[0m\u001b[0;32m      4\u001b[0m     \u001b[1;32mreturn\u001b[0m \u001b[0mdata\u001b[0m\u001b[1;33m\u001b[0m\u001b[1;33m\u001b[0m\u001b[0m\n\u001b[0;32m      5\u001b[0m \u001b[1;33m\u001b[0m\u001b[0m\n",
            "\u001b[1;32mc:\\Users\\kashi\\AppData\\Local\\Programs\\Python\\Python39\\lib\\site-packages\\keras\\saving\\pickle_utils.py\u001b[0m in \u001b[0;36mdeserialize_model_from_bytecode\u001b[1;34m(serialized_model)\u001b[0m\n\u001b[0;32m     46\u001b[0m         \u001b[1;32mwith\u001b[0m \u001b[0mtf\u001b[0m\u001b[1;33m.\u001b[0m\u001b[0mio\u001b[0m\u001b[1;33m.\u001b[0m\u001b[0mgfile\u001b[0m\u001b[1;33m.\u001b[0m\u001b[0mGFile\u001b[0m\u001b[1;33m(\u001b[0m\u001b[0mdest_path\u001b[0m\u001b[1;33m,\u001b[0m \u001b[1;34m\"wb\"\u001b[0m\u001b[1;33m)\u001b[0m \u001b[1;32mas\u001b[0m \u001b[0mf\u001b[0m\u001b[1;33m:\u001b[0m\u001b[1;33m\u001b[0m\u001b[1;33m\u001b[0m\u001b[0m\n\u001b[0;32m     47\u001b[0m           \u001b[0mf\u001b[0m\u001b[1;33m.\u001b[0m\u001b[0mwrite\u001b[0m\u001b[1;33m(\u001b[0m\u001b[0marchive\u001b[0m\u001b[1;33m.\u001b[0m\u001b[0mextractfile\u001b[0m\u001b[1;33m(\u001b[0m\u001b[0mname\u001b[0m\u001b[1;33m)\u001b[0m\u001b[1;33m.\u001b[0m\u001b[0mread\u001b[0m\u001b[1;33m(\u001b[0m\u001b[1;33m)\u001b[0m\u001b[1;33m)\u001b[0m\u001b[1;33m\u001b[0m\u001b[1;33m\u001b[0m\u001b[0m\n\u001b[1;32m---> 48\u001b[1;33m   \u001b[0mmodel\u001b[0m \u001b[1;33m=\u001b[0m \u001b[0msave_module\u001b[0m\u001b[1;33m.\u001b[0m\u001b[0mload_model\u001b[0m\u001b[1;33m(\u001b[0m\u001b[0mtemp_dir\u001b[0m\u001b[1;33m)\u001b[0m\u001b[1;33m\u001b[0m\u001b[1;33m\u001b[0m\u001b[0m\n\u001b[0m\u001b[0;32m     49\u001b[0m   \u001b[0mtf\u001b[0m\u001b[1;33m.\u001b[0m\u001b[0mio\u001b[0m\u001b[1;33m.\u001b[0m\u001b[0mgfile\u001b[0m\u001b[1;33m.\u001b[0m\u001b[0mrmtree\u001b[0m\u001b[1;33m(\u001b[0m\u001b[0mtemp_dir\u001b[0m\u001b[1;33m)\u001b[0m\u001b[1;33m\u001b[0m\u001b[1;33m\u001b[0m\u001b[0m\n\u001b[0;32m     50\u001b[0m   \u001b[1;32mreturn\u001b[0m \u001b[0mmodel\u001b[0m\u001b[1;33m\u001b[0m\u001b[1;33m\u001b[0m\u001b[0m\n",
            "\u001b[1;32mc:\\Users\\kashi\\AppData\\Local\\Programs\\Python\\Python39\\lib\\site-packages\\keras\\utils\\traceback_utils.py\u001b[0m in \u001b[0;36merror_handler\u001b[1;34m(*args, **kwargs)\u001b[0m\n\u001b[0;32m     65\u001b[0m     \u001b[1;32mexcept\u001b[0m \u001b[0mException\u001b[0m \u001b[1;32mas\u001b[0m \u001b[0me\u001b[0m\u001b[1;33m:\u001b[0m  \u001b[1;31m# pylint: disable=broad-except\u001b[0m\u001b[1;33m\u001b[0m\u001b[1;33m\u001b[0m\u001b[0m\n\u001b[0;32m     66\u001b[0m       \u001b[0mfiltered_tb\u001b[0m \u001b[1;33m=\u001b[0m \u001b[0m_process_traceback_frames\u001b[0m\u001b[1;33m(\u001b[0m\u001b[0me\u001b[0m\u001b[1;33m.\u001b[0m\u001b[0m__traceback__\u001b[0m\u001b[1;33m)\u001b[0m\u001b[1;33m\u001b[0m\u001b[1;33m\u001b[0m\u001b[0m\n\u001b[1;32m---> 67\u001b[1;33m       \u001b[1;32mraise\u001b[0m \u001b[0me\u001b[0m\u001b[1;33m.\u001b[0m\u001b[0mwith_traceback\u001b[0m\u001b[1;33m(\u001b[0m\u001b[0mfiltered_tb\u001b[0m\u001b[1;33m)\u001b[0m \u001b[1;32mfrom\u001b[0m \u001b[1;32mNone\u001b[0m\u001b[1;33m\u001b[0m\u001b[1;33m\u001b[0m\u001b[0m\n\u001b[0m\u001b[0;32m     68\u001b[0m     \u001b[1;32mfinally\u001b[0m\u001b[1;33m:\u001b[0m\u001b[1;33m\u001b[0m\u001b[1;33m\u001b[0m\u001b[0m\n\u001b[0;32m     69\u001b[0m       \u001b[1;32mdel\u001b[0m \u001b[0mfiltered_tb\u001b[0m\u001b[1;33m\u001b[0m\u001b[1;33m\u001b[0m\u001b[0m\n",
            "\u001b[1;32mc:\\Users\\kashi\\AppData\\Local\\Programs\\Python\\Python39\\lib\\site-packages\\tensorflow\\python\\saved_model\\load.py\u001b[0m in \u001b[0;36mload_internal\u001b[1;34m(export_dir, tags, options, loader_cls, filters)\u001b[0m\n\u001b[0;32m    975\u001b[0m                             ckpt_options, options, filters)\n\u001b[0;32m    976\u001b[0m       \u001b[1;32mexcept\u001b[0m \u001b[0merrors\u001b[0m\u001b[1;33m.\u001b[0m\u001b[0mNotFoundError\u001b[0m \u001b[1;32mas\u001b[0m \u001b[0merr\u001b[0m\u001b[1;33m:\u001b[0m\u001b[1;33m\u001b[0m\u001b[1;33m\u001b[0m\u001b[0m\n\u001b[1;32m--> 977\u001b[1;33m         raise FileNotFoundError(\n\u001b[0m\u001b[0;32m    978\u001b[0m             \u001b[0mstr\u001b[0m\u001b[1;33m(\u001b[0m\u001b[0merr\u001b[0m\u001b[1;33m)\u001b[0m \u001b[1;33m+\u001b[0m \u001b[1;34m\"\\n You may be trying to load on a different device \"\u001b[0m\u001b[1;33m\u001b[0m\u001b[1;33m\u001b[0m\u001b[0m\n\u001b[0;32m    979\u001b[0m             \u001b[1;34m\"from the computational device. Consider setting the \"\u001b[0m\u001b[1;33m\u001b[0m\u001b[1;33m\u001b[0m\u001b[0m\n",
            "\u001b[1;31mFileNotFoundError\u001b[0m: Unsuccessful TensorSliceReader constructor: Failed to find any matching files for ram://28ff7aba-6496-413b-8f3f-d2d1e993f99b/variables/variables\n You may be trying to load on a different device from the computational device. Consider setting the `experimental_io_device` option in `tf.saved_model.LoadOptions` to the io_device such as '/job:localhost'."
          ]
        }
      ],
      "source": [
        "# def load_model():\n",
        "#     with open('data_IMDB_pickle_TFIDF03.pkl', 'rb') as file:\n",
        "#         data = pickle.load(file)\n",
        "#     return data\n",
        "\n",
        "\n",
        "# data_IMDB = load_model()\n",
        "# helper = data_IMDB[\"helper\"]\n",
        "# model = data_IMDB[\"model\"]\n"
      ]
    },
    {
      "cell_type": "code",
      "execution_count": null,
      "metadata": {
        "colab": {
          "base_uri": "https://localhost:8080/"
        },
        "id": "Z_GlL1mxKdIk",
        "outputId": "886c739a-26a0-47a6-e867-4a6f278f5a19"
      },
      "outputs": [
        {
          "ename": "NameError",
          "evalue": "name 'helper' is not defined",
          "output_type": "error",
          "traceback": [
            "\u001b[1;31m---------------------------------------------------------------------------\u001b[0m",
            "\u001b[1;31mNameError\u001b[0m                                 Traceback (most recent call last)",
            "\u001b[1;32m~\\AppData\\Local\\Temp/ipykernel_35816/3797422447.py\u001b[0m in \u001b[0;36m<module>\u001b[1;34m\u001b[0m\n\u001b[0;32m      4\u001b[0m \u001b[1;31m# \"\"\"]\u001b[0m\u001b[1;33m\u001b[0m\u001b[1;33m\u001b[0m\u001b[1;33m\u001b[0m\u001b[0m\n\u001b[0;32m      5\u001b[0m \u001b[1;33m\u001b[0m\u001b[0m\n\u001b[1;32m----> 6\u001b[1;33m \u001b[0msample\u001b[0m \u001b[1;33m=\u001b[0m \u001b[0mhelper\u001b[0m\u001b[1;33m.\u001b[0m\u001b[0mtransform\u001b[0m\u001b[1;33m(\u001b[0m\u001b[0msample\u001b[0m\u001b[1;33m)\u001b[0m\u001b[1;33m.\u001b[0m\u001b[0mnonzero\u001b[0m\u001b[1;33m(\u001b[0m\u001b[1;33m)\u001b[0m\u001b[1;33m[\u001b[0m\u001b[1;36m1\u001b[0m\u001b[1;33m]\u001b[0m\u001b[1;33m\u001b[0m\u001b[1;33m\u001b[0m\u001b[0m\n\u001b[0m\u001b[0;32m      7\u001b[0m \u001b[0msample\u001b[0m \u001b[1;33m=\u001b[0m \u001b[0msequence\u001b[0m\u001b[1;33m.\u001b[0m\u001b[0mpad_sequences\u001b[0m\u001b[1;33m(\u001b[0m\u001b[1;33m[\u001b[0m\u001b[0msample\u001b[0m\u001b[1;33m]\u001b[0m\u001b[1;33m,\u001b[0m \u001b[0mmaxlen\u001b[0m\u001b[1;33m=\u001b[0m\u001b[0mmax_review_length\u001b[0m\u001b[1;33m)\u001b[0m\u001b[1;33m\u001b[0m\u001b[1;33m\u001b[0m\u001b[0m\n\u001b[0;32m      8\u001b[0m \u001b[0mval\u001b[0m \u001b[1;33m=\u001b[0m \u001b[0mmodel\u001b[0m\u001b[1;33m.\u001b[0m\u001b[0mpredict\u001b[0m\u001b[1;33m(\u001b[0m\u001b[0msample\u001b[0m\u001b[1;33m)\u001b[0m\u001b[1;33m\u001b[0m\u001b[1;33m\u001b[0m\u001b[0m\n",
            "\u001b[1;31mNameError\u001b[0m: name 'helper' is not defined"
          ]
        }
      ],
      "source": [
        "# sample = [\"This was  movie. worst\"]\n",
        "# # sample = [\"\"\"\n",
        "# #          If you keep rigid historical perspective out of it, this film is actually quite entertaining. It's got action, adventure and romance, and one of the premiere casting match-ups of the era with Errol Flynn and Olivia de Havilland in the lead roles. As evident on this board, the picture doesn't pass muster with purists who look for one hundred percent accuracy in their story telling. To get beyond that, one need only put aside the history book, and enjoy the story as if it were a work of fiction. I know, I know, that's hard to do when you consider Custer's Last Stand at the Little Big Horn and it's prominence in the history of post Civil War America. So I guess there's an unresolved quandary with the picture, no matter how you look at it.<br /><br />There's a lot to take in here though for the picture's two hour plus run time. Custer's arrival at West Point is probably the first head scratcher, riding up as he does in full military regalia. The practical joke by Sharp (Arthur Kennedy) putting him up in the Major's headquarters probably should have gotten them both in trouble.<br /><br />Ironically, a lot of scenes in this military film play for comedy, as in Custer's first meeting with Libby Bacon, and subsequent encounters that include tea reader Callie (Hattie McDaniel). I hadn't noticed it before in other films, but McDaniel reminded me an awful lot of another favorite character actor of mine from the Forties, Mantan Moreland. So much so that in one scene it looked like it might have been Moreland hamming it up in a dress. With that in mind, the owl scene was a hoot too.<br /><br />As for Flynn, it's interesting to note that a year earlier, he portrayed J.E.B. Stuart opposite Ronald Reagan's depiction of General Custer in \"Santa Fe Trail\", both vying for the attention of none other than Olivia de Havilland. In that film, Reagan put none of the arrogance and flamboyance into the character of Custer that history remembers, while in Flynn's portrayal here it's more than evident. But it doesn't come close to that of Richard Mulligan's take on the military hero in 1970's \"Little Big Man\". Let's just say that one was a bit over the top.<br /><br />The better take away the picture had for me was the manner in which Custer persevered to maintain his good name and not gamble it away on a risky business venture. That and his loyalty to the men he led in battle along with the discipline he developed over the course of the story. Most poignant was that final confrontation with arch rival Sharp just before riding into the Little Big Horn, in which he declared that hell or glory was entirely dependent on one's point of view. Earlier, a similar remark might have given us the best insight of all into Custer's character, when he stated - \"You take glory with you when it's your time to go\".\n",
        "# # \"\"\"]\n",
        "\n",
        "# sample = helper.transform(sample).nonzero()[1]\n",
        "# sample = sequence.pad_sequences([sample], maxlen=max_review_length)\n",
        "# val = model.predict(sample)\n",
        "# print(val[0][0])\n",
        "# if(val>=0.5):\n",
        "#     print(\"positive\")\n",
        "# else:\n",
        "#     print(\"negative\")\n"
      ]
    },
    {
      "cell_type": "code",
      "execution_count": 48,
      "metadata": {
        "colab": {
          "base_uri": "https://localhost:8080/",
          "height": 295
        },
        "id": "oH4sC2csKdIl",
        "outputId": "d3e5992a-d626-4b2c-f47c-fe283389bbb4"
      },
      "outputs": [
        {
          "data": {
            "image/png": "[encoded data removed]",
            "text/plain": [
              "<Figure size 432x288 with 1 Axes>"
            ]
          },
          "metadata": {
            "needs_background": "light"
          },
          "output_type": "display_data"
        }
      ],
      "source": [
        "import matplotlib.pyplot as plt\n",
        "plt.plot(history.history['accuracy'])\n",
        "plt.title(\"Epochs vs Accuracy\")\n",
        "plt.xlabel(\"Number of epochs\")\n",
        "plt.ylabel(\"Accuracy score\")\n",
        "plt.show()\n"
      ]
    },
    {
      "cell_type": "code",
      "execution_count": null,
      "metadata": {
        "id": "SkjJsCuuKdIl"
      },
      "outputs": [],
      "source": []
    },
    {
      "cell_type": "code",
      "execution_count": 16,
      "metadata": {},
      "outputs": [],
      "source": [
        "from tensorflow.keras.models import load_model\n",
        "\n",
        "from scipy import sparse\n",
        "\n",
        "# sparse.save_npz(\"yourmatrix.npz\", your_matrix)\n",
        "# your_matrix_back = sparse.load_npz(\"yourmatrix.npz\")\n",
        "# model.save('model.h5')\n",
        "# pickle.dump(helper, open(\"helper.pkl\", \"wb\"))\n"
      ]
    },
    {
      "cell_type": "code",
      "execution_count": 17,
      "metadata": {},
      "outputs": [
        {
          "name": "stderr",
          "output_type": "stream",
          "text": [
            "C:\\Users\\kashi\\AppData\\Local\\Temp/ipykernel_48452/1065603964.py:2: DeprecationWarning: Please use `csr_matrix` from the `scipy.sparse` namespace, the `scipy.sparse.csr` namespace is deprecated.\n",
            "  helper02 = pickle.load(open('helper.pkl', 'rb'))\n"
          ]
        }
      ],
      "source": [
        "model = load_model('model.h5')\n",
        "helper02 = pickle.load(open('helper.pkl', 'rb'))\n"
      ]
    },
    {
      "cell_type": "code",
      "execution_count": 33,
      "metadata": {},
      "outputs": [
        {
          "name": "stdout",
          "output_type": "stream",
          "text": [
            "<class 'list'>\n",
            "1\n",
            "<class 'numpy.ndarray'>\n",
            "1\n",
            "<class 'list'>\n",
            "1\n",
            "<class 'numpy.ndarray'>\n",
            "1\n",
            "0.6988591\n",
            "positive\n"
          ]
        }
      ],
      "source": [
        "sample = [\" good  \"]\n",
        "# sample = [\"If you keep rigid historical perspective out of it, this film is actually quite entertaining. It's got action, adventure and romance, and one of the premiere casting match-ups of the era with Errol Flynn and Olivia de Havilland in the lead roles. As evident on this board, the picture doesn't pass muster with purists who look for one hundred percent accuracy in their story telling. To get beyond that, one need only put aside the history book, and enjoy the story as if it were a work of fiction. I know, I know, that's hard to do when you consider Custer's Last Stand at the Little Big Horn and it's prominence in the history of post Civil War America. So I guess there's an unresolved quandary with the picture, no matter how you look at it.<br /><br />There's a lot to take in here though for the picture's two hour plus run time. Custer's arrival at West Point is probably the first head scratcher, riding up as he does in full military regalia. The practical joke by Sharp (Arthur Kennedy) putting him up in the Major's headquarters probably should have gotten them both in trouble.<br /><br />Ironically, a lot of scenes in this military film play for comedy, as in Custer's first meeting with Libby Bacon, and subsequent encounters that include tea reader Callie (Hattie McDaniel). I hadn't noticed it before in other films, but McDaniel reminded me an awful lot of another favorite character actor of mine from the Forties, Mantan Moreland. So much so that in one scene it looked like it might have been Moreland hamming it up in a dress. With that in mind, the owl scene was a hoot too.<br /><br />As for Flynn, it's interesting to note that a year earlier, he portrayed J.E.B. Stuart opposite Ronald Reagan's depiction of General Custer in \"Santa Fe Trail\", both vying for the attention of none other than Olivia de Havilland. In that film, Reagan put none of the arrogance and flamboyance into the character of Custer that history remembers, while in Flynn's portrayal here it's more than evident. But it doesn't come close to that of Richard Mulligan's take on the military hero in 1970's \"Little Big Man\". Let's just say that one was a bit over the top.<br /><br />The better take away the picture had for me was the manner in which Custer persevered to maintain his good name and not gamble it away on a risky business venture. That and his loyalty to the men he led in battle along with the discipline he developed over the course of the story. Most poignant was that final confrontation with arch rival Sharp just before riding into the Little Big Horn, in which he declared that hell or glory was entirely dependent on one's point of view. Earlier, a similar remark might have given us the best insight of all into Custer's character, when he stated - \"You take glory with you when it's your time to go.\"]\n",
        "max_review_length = 600\n",
        "print(type(sample))\n",
        "print(len(sample))\n",
        "sample = helper02.transform(sample).nonzero()[1]\n",
        "print(type(sample))\n",
        "print(len(sample))\n",
        "sample = list(sample)\n",
        "print(type(sample))\n",
        "print(len(sample))\n",
        "sample = sequence.pad_sequences([sample], maxlen=max_review_length)\n",
        "\n",
        "print(type(sample))\n",
        "print(len(sample))\n",
        "val = model.predict(sample)\n",
        "print(val[0][0])\n",
        "if(val >= 0.5):\n",
        "    print(\"positive\")\n",
        "else:\n",
        "    print(\"negative\")\n"
      ]
    }
  ],
  "metadata": {
    "accelerator": "GPU",
    "colab": {
      "collapsed_sections": [],
      "name": "LSTM_IMDB_TFIDF_Vectorizer.ipynb",
      "provenance": []
    },
    "kernelspec": {
      "display_name": "Python 3.9.6 64-bit",
      "language": "python",
      "name": "python3"
    },
    "language_info": {
      "codemirror_mode": {
        "name": "ipython",
        "version": 3
      },
      "file_extension": ".py",
      "mimetype": "text/x-python",
      "name": "python",
      "nbconvert_exporter": "python",
      "pygments_lexer": "ipython3",
      "version": "3.9.6"
    },
    "vscode": {
      "interpreter": {
        "hash": "4586486822f320ea9db752faf16167f7e007a8d174a4de7428e619083981a73d"
      }
    }
  },
  "nbformat": 4,
  "nbformat_minor": 0
}
