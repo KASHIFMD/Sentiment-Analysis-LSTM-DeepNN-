{
  "cells": [
    {
      "cell_type": "markdown",
      "metadata": {
        "id": "Ig71SebOKdIA"
      },
      "source": [
        "\n",
        "# LSTM for sequence classification in the IMDB dataset"
      ]
    },
    {
      "cell_type": "code",
      "execution_count": 55,
      "metadata": {
        "id": "Jr4cugH3mZ_X"
      },
      "outputs": [],
      "source": [
        "from keras.models import Sequential\n",
        "import numpy\n",
        "import pandas as pd\n",
        "from keras.datasets import imdb\n",
        "from sklearn import model_selection\n",
        "from keras.models import Sequential \n",
        "from keras.layers import Dense\n",
        "from keras.layers import LSTM\n",
        "from keras.layers.embeddings import Embedding\n",
        "from keras.preprocessing import sequence\n",
        "from sklearn.model_selection import train_test_split\n",
        "import scipy\n",
        "# fix random seed for reproducibility\n",
        "numpy.random.seed(7)\n"
      ]
    },
    {
      "cell_type": "markdown",
      "metadata": {
        "id": "yFYHlkq6KdIJ"
      },
      "source": [
        "# Load Data"
      ]
    },
    {
      "cell_type": "code",
      "execution_count": 56,
      "metadata": {
        "id": "Kjf2yM5GF4_8"
      },
      "outputs": [],
      "source": [
        "df = pd.read_csv(\"/content/drive/MyDrive/Mtech 2022/IMDB Dataset_Updated.csv\", header=0)\n",
        "df.head()\n",
        "X = df['review']\n",
        "y = df['sentiment']\n"
      ]
    },
    {
      "cell_type": "code",
      "source": [
        "# from google.colab import drive\n",
        "# drive.mount('/content/drive')"
      ],
      "metadata": {
        "id": "UenMPLTpKoyb"
      },
      "execution_count": 57,
      "outputs": []
    },
    {
      "cell_type": "markdown",
      "metadata": {
        "id": "etxXLp4iKdIM"
      },
      "source": [
        "* convert target variable into binary format"
      ]
    },
    {
      "cell_type": "code",
      "execution_count": 58,
      "metadata": {
        "colab": {
          "base_uri": "https://localhost:8080/"
        },
        "id": "E8-3oodWKdIN",
        "outputId": "38678e9c-65e7-481a-da01-0220a6300bf2"
      },
      "outputs": [
        {
          "output_type": "stream",
          "name": "stdout",
          "text": [
            "0    1\n",
            "1    1\n",
            "2    1\n",
            "3    0\n",
            "4    1\n",
            "Name: sentiment, dtype: int64\n"
          ]
        }
      ],
      "source": [
        "def function(x):\n",
        "    if x=='positive':\n",
        "        return 1\n",
        "    else:\n",
        "        return 0\n",
        "\n",
        "y= y.apply(function)\n",
        "print(y[:5])"
      ]
    },
    {
      "cell_type": "markdown",
      "metadata": {
        "id": "iYvYX1VMKdIP"
      },
      "source": [
        "# Text to vectorizer"
      ]
    },
    {
      "cell_type": "code",
      "execution_count": 59,
      "metadata": {
        "id": "thyE74MuKdIQ"
      },
      "outputs": [],
      "source": [
        "from sklearn.feature_extraction.text import CountVectorizer\n",
        "from sklearn.feature_extraction.text import TfidfVectorizer\n",
        "import pandas as pd\n",
        "from sklearn.model_selection import train_test_split\n",
        "from scipy.sparse import csr_matrix\n"
      ]
    },
    {
      "cell_type": "code",
      "execution_count": 60,
      "metadata": {
        "id": "D-FHoQj1KdIS"
      },
      "outputs": [],
      "source": [
        "\n",
        "X_train, X_test, y_train, y_test = train_test_split(X, y, test_size=0.5, random_state=0)\n"
      ]
    },
    {
      "cell_type": "code",
      "execution_count": 61,
      "metadata": {
        "colab": {
          "base_uri": "https://localhost:8080/"
        },
        "id": "1ANi0v0OKdIT",
        "outputId": "0f0e4d36-135a-4759-c99e-739d3f6400db"
      },
      "outputs": [
        {
          "output_type": "execute_result",
          "data": {
            "text/plain": [
              "21626    Portrays the day to day stark reality of survi...\n",
              "4521     This was an interesting study in societal sexu...\n",
              "3652     Prior to Airport 79' these movies were rather ...\n",
              "22212    This is without doubt the most exciting and sa...\n",
              "17669    Maybe I'm alone here, but this is a crap show....\n",
              "Name: review, dtype: object"
            ]
          },
          "metadata": {},
          "execution_count": 61
        }
      ],
      "source": [
        "X_train.head(5)"
      ]
    },
    {
      "cell_type": "code",
      "execution_count": 62,
      "metadata": {
        "id": "RF9a2oduKdIU"
      },
      "outputs": [],
      "source": [
        "def create_document_term_matrix(message_list, vectorizer):\n",
        "    # doc_term_matrix = vectorizer.fit_transform(message_list)\n",
        "    helper = vectorizer.fit(message_list)\n",
        "    # return pd.DataFrame(doc_term_matrix.toarray(), columns=vectorizer.get_feature_names_out()), helper\n",
        "    return helper\n",
        "\n",
        "top_words = 5000\n",
        "count_vect = CountVectorizer(max_features=top_words)\n",
        "helper = create_document_term_matrix(X_train, count_vect)\n"
      ]
    },
    {
      "cell_type": "code",
      "execution_count": 63,
      "metadata": {
        "colab": {
          "base_uri": "https://localhost:8080/"
        },
        "id": "TCF8V6HMKdIV",
        "outputId": "6a767ccc-1ce8-4b60-9a9c-c3521650ec62"
      },
      "outputs": [
        {
          "output_type": "execute_result",
          "data": {
            "text/plain": [
              "21626    Portrays the day to day stark reality of survi...\n",
              "4521     This was an interesting study in societal sexu...\n",
              "3652     Prior to Airport 79' these movies were rather ...\n",
              "22212    This is without doubt the most exciting and sa...\n",
              "17669    Maybe I'm alone here, but this is a crap show....\n",
              "Name: review, dtype: object"
            ]
          },
          "metadata": {},
          "execution_count": 63
        }
      ],
      "source": [
        "X_train.head(5)"
      ]
    },
    {
      "cell_type": "code",
      "execution_count": 64,
      "metadata": {
        "colab": {
          "base_uri": "https://localhost:8080/"
        },
        "id": "1KrSOuMFKdIW",
        "outputId": "6d6d9483-0733-41c4-c4a5-27b21cecd0df"
      },
      "outputs": [
        {
          "output_type": "execute_result",
          "data": {
            "text/plain": [
              "25000"
            ]
          },
          "metadata": {},
          "execution_count": 64
        }
      ],
      "source": [
        "X_train.shape[0]\n"
      ]
    },
    {
      "cell_type": "code",
      "execution_count": 65,
      "metadata": {
        "colab": {
          "base_uri": "https://localhost:8080/"
        },
        "id": "_07foF3EKdIX",
        "outputId": "b6a19a2d-3471-4eb5-b7f7-2abbedd03de3"
      },
      "outputs": [
        {
          "output_type": "stream",
          "name": "stdout",
          "text": [
            "[ 102  108  244  289  478  550  648 1158 1337 1558 1707 2285 2463 2627\n",
            " 2758 2947 3067 3100 3111 3128 3132 3171 3363 3421 3553 3563 3566 3567\n",
            " 3828 3963 4167 4334 4437 4449 4452 4463 4514 4862 4990]\n",
            "[  70  102  191  228  230  302  315  333  364  506  563  642  671  719\n",
            "  767  806  911 1045 1059 1144 1186 1268 1344 1492 1568 1645 1812 1870\n",
            " 1880 1909 1962 1990 2034 2076 2085 2090 2119 2142 2149 2236 2251 2285\n",
            " 2351 2385 2391 2491 2512 2569 2582 2620 2716 2746 2770 2914 2947 2975\n",
            " 3025 3067 3099 3111 3127 3144 3172 3174 3215 3252 3320 3577 3700 3815\n",
            " 3855 3922 3923 3938 3963 4125 4243 4257 4275 4435 4437 4463 4468 4514\n",
            " 4519 4606 4737 4754 4787 4815 4854 4866 4870 4875 4876 4890 4917 4957\n",
            " 4975 4976 4990 4991]\n",
            "[  24   61   70  102  107  169  172  191  198  204  228  230  289  315\n",
            "  333  384  441  456  470  479  502  642  712  719  938 1031 1118 1176\n",
            " 1194 1243 1268 1292 1337 1340 1344 1443 1453 1544 1635 1654 1677 1719\n",
            " 1749 1812 1846 1870 1878 1926 1952 1962 2034 2076 2090 2102 2113 2158\n",
            " 2198 2213 2243 2285 2385 2387 2389 2391 2429 2431 2463 2481 2516 2608\n",
            " 2627 2674 2737 2758 2804 2947 2948 2955 2975 3111 3132 3136 3144 3160\n",
            " 3166 3172 3347 3407 3423 3547 3572 3576 3826 3873 3955 4111 4165 4204\n",
            " 4283 4370 4437 4449 4451 4452 4459 4463 4514 4515 4529 4573 4690 4706\n",
            " 4737 4814 4815 4858 4866 4875 4879 4881 4901 4917 4965]\n"
          ]
        }
      ],
      "source": [
        "print(helper.transform([X_train.iloc[0]]).nonzero()[1])\n",
        "print(helper.transform([X_train.iloc[1]]).nonzero()[1])\n",
        "print(helper.transform([X_train.iloc[2]]).nonzero()[1])\n"
      ]
    },
    {
      "cell_type": "code",
      "execution_count": 66,
      "metadata": {
        "colab": {
          "base_uri": "https://localhost:8080/"
        },
        "id": "P60-Q2IMKdIY",
        "outputId": "dfe47933-618f-4e98-f7e7-d57bc7a7c853"
      },
      "outputs": [
        {
          "output_type": "stream",
          "name": "stdout",
          "text": [
            "[ 102  108  244  289  478  550  648 1158 1337 1558 1707 2285 2463 2627\n",
            " 2758 2947 3067 3100 3111 3128 3132 3171 3363 3421 3553 3563 3566 3567\n",
            " 3828 3963 4167 4334 4437 4449 4452 4463 4514 4862 4990]\n"
          ]
        }
      ],
      "source": [
        "print(helper.transform([X_train.iloc[0]]).nonzero()[1])\n"
      ]
    },
    {
      "cell_type": "code",
      "execution_count": 67,
      "metadata": {
        "id": "C8in5-6rKdIY"
      },
      "outputs": [],
      "source": [
        "def function(x, temp):\n",
        "    temp.append(helper.transform(x).nonzero()[1])\n",
        "\n",
        "\n",
        "X_train_Vect = []\n",
        "X_test_Vect = []\n",
        "for i in range(X_train.shape[0]):\n",
        "    function([X_train.iloc[i]], X_train_Vect)\n",
        "for i in range(X_test.shape[0]):\n",
        "    function([X_test.iloc[i]], X_test_Vect)\n"
      ]
    },
    {
      "cell_type": "code",
      "execution_count": 68,
      "metadata": {
        "colab": {
          "base_uri": "https://localhost:8080/"
        },
        "id": "L0xY7Ub-KdIZ",
        "outputId": "7a94a8cc-faf5-4d9f-ac89-d7abf23d3956"
      },
      "outputs": [
        {
          "output_type": "stream",
          "name": "stdout",
          "text": [
            "25000\n",
            "<class 'list'>\n"
          ]
        },
        {
          "output_type": "execute_result",
          "data": {
            "text/plain": [
              "[array([ 102,  108,  244,  289,  478,  550,  648, 1158, 1337, 1558, 1707,\n",
              "        2285, 2463, 2627, 2758, 2947, 3067, 3100, 3111, 3128, 3132, 3171,\n",
              "        3363, 3421, 3553, 3563, 3566, 3567, 3828, 3963, 4167, 4334, 4437,\n",
              "        4449, 4452, 4463, 4514, 4862, 4990], dtype=int32),\n",
              " array([  70,  102,  191,  228,  230,  302,  315,  333,  364,  506,  563,\n",
              "         642,  671,  719,  767,  806,  911, 1045, 1059, 1144, 1186, 1268,\n",
              "        1344, 1492, 1568, 1645, 1812, 1870, 1880, 1909, 1962, 1990, 2034,\n",
              "        2076, 2085, 2090, 2119, 2142, 2149, 2236, 2251, 2285, 2351, 2385,\n",
              "        2391, 2491, 2512, 2569, 2582, 2620, 2716, 2746, 2770, 2914, 2947,\n",
              "        2975, 3025, 3067, 3099, 3111, 3127, 3144, 3172, 3174, 3215, 3252,\n",
              "        3320, 3577, 3700, 3815, 3855, 3922, 3923, 3938, 3963, 4125, 4243,\n",
              "        4257, 4275, 4435, 4437, 4463, 4468, 4514, 4519, 4606, 4737, 4754,\n",
              "        4787, 4815, 4854, 4866, 4870, 4875, 4876, 4890, 4917, 4957, 4975,\n",
              "        4976, 4990, 4991], dtype=int32)]"
            ]
          },
          "metadata": {},
          "execution_count": 68
        }
      ],
      "source": [
        "print(len(X_train_Vect))\n",
        "print(type(X_train_Vect))\n",
        "# X_train_Vect\n",
        "X_train_Vect[0:2]\n"
      ]
    },
    {
      "cell_type": "markdown",
      "metadata": {
        "id": "_vAqVsLgKdIa"
      },
      "source": [
        "x = [[1, 2], [1, 2, 3], [1]]\n",
        "y = numpy.array([numpy.array(xi) for xi in x], dtype=object)\n",
        "print(y)"
      ]
    },
    {
      "cell_type": "code",
      "execution_count": 69,
      "metadata": {
        "colab": {
          "base_uri": "https://localhost:8080/"
        },
        "id": "sTbfA_cpKdIa",
        "outputId": "afa2f7b6-ed13-4acd-fa4f-12efdd395919"
      },
      "outputs": [
        {
          "output_type": "stream",
          "name": "stderr",
          "text": [
            "/usr/local/lib/python3.7/dist-packages/ipykernel_launcher.py:3: VisibleDeprecationWarning: Creating an ndarray from ragged nested sequences (which is a list-or-tuple of lists-or-tuples-or ndarrays with different lengths or shapes) is deprecated. If you meant to do this, you must specify 'dtype=object' when creating the ndarray.\n",
            "  This is separate from the ipykernel package so we can avoid doing imports until\n",
            "/usr/local/lib/python3.7/dist-packages/ipykernel_launcher.py:4: VisibleDeprecationWarning: Creating an ndarray from ragged nested sequences (which is a list-or-tuple of lists-or-tuples-or ndarrays with different lengths or shapes) is deprecated. If you meant to do this, you must specify 'dtype=object' when creating the ndarray.\n",
            "  after removing the cwd from sys.path.\n"
          ]
        }
      ],
      "source": [
        "# X_train_Vect = numpy.array(X_train_Vect, ndmin = 2)\n",
        "# X_test_Vect = numpy.array(X_test_Vect, ndmin = 2)\n",
        "X_train_Vect = numpy.array([numpy.array(xi) for xi in X_train_Vect])\n",
        "X_test_Vect = numpy.array([numpy.array(xi) for xi in X_test_Vect])"
      ]
    },
    {
      "cell_type": "code",
      "execution_count": 70,
      "metadata": {
        "colab": {
          "base_uri": "https://localhost:8080/"
        },
        "id": "cPKAM1xRKdIb",
        "outputId": "201785bb-323b-4074-d7cf-f8d212b9913a"
      },
      "outputs": [
        {
          "output_type": "execute_result",
          "data": {
            "text/plain": [
              "array([array([ 102,  108,  244,  289,  478,  550,  648, 1158, 1337, 1558, 1707,\n",
              "              2285, 2463, 2627, 2758, 2947, 3067, 3100, 3111, 3128, 3132, 3171,\n",
              "              3363, 3421, 3553, 3563, 3566, 3567, 3828, 3963, 4167, 4334, 4437,\n",
              "              4449, 4452, 4463, 4514, 4862, 4990], dtype=int32)                ,\n",
              "       array([  70,  102,  191,  228,  230,  302,  315,  333,  364,  506,  563,\n",
              "               642,  671,  719,  767,  806,  911, 1045, 1059, 1144, 1186, 1268,\n",
              "              1344, 1492, 1568, 1645, 1812, 1870, 1880, 1909, 1962, 1990, 2034,\n",
              "              2076, 2085, 2090, 2119, 2142, 2149, 2236, 2251, 2285, 2351, 2385,\n",
              "              2391, 2491, 2512, 2569, 2582, 2620, 2716, 2746, 2770, 2914, 2947,\n",
              "              2975, 3025, 3067, 3099, 3111, 3127, 3144, 3172, 3174, 3215, 3252,\n",
              "              3320, 3577, 3700, 3815, 3855, 3922, 3923, 3938, 3963, 4125, 4243,\n",
              "              4257, 4275, 4435, 4437, 4463, 4468, 4514, 4519, 4606, 4737, 4754,\n",
              "              4787, 4815, 4854, 4866, 4870, 4875, 4876, 4890, 4917, 4957, 4975,\n",
              "              4976, 4990, 4991], dtype=int32)                                  ,\n",
              "       array([  24,   61,   70,  102,  107,  169,  172,  191,  198,  204,  228,\n",
              "               230,  289,  315,  333,  384,  441,  456,  470,  479,  502,  642,\n",
              "               712,  719,  938, 1031, 1118, 1176, 1194, 1243, 1268, 1292, 1337,\n",
              "              1340, 1344, 1443, 1453, 1544, 1635, 1654, 1677, 1719, 1749, 1812,\n",
              "              1846, 1870, 1878, 1926, 1952, 1962, 2034, 2076, 2090, 2102, 2113,\n",
              "              2158, 2198, 2213, 2243, 2285, 2385, 2387, 2389, 2391, 2429, 2431,\n",
              "              2463, 2481, 2516, 2608, 2627, 2674, 2737, 2758, 2804, 2947, 2948,\n",
              "              2955, 2975, 3111, 3132, 3136, 3144, 3160, 3166, 3172, 3347, 3407,\n",
              "              3423, 3547, 3572, 3576, 3826, 3873, 3955, 4111, 4165, 4204, 4283,\n",
              "              4370, 4437, 4449, 4451, 4452, 4459, 4463, 4514, 4515, 4529, 4573,\n",
              "              4690, 4706, 4737, 4814, 4815, 4858, 4866, 4875, 4879, 4881, 4901,\n",
              "              4917, 4965], dtype=int32)                                        ,\n",
              "       array([  70,  113,  120,  148,  191,  198,  230,  277,  286,  289,  302,\n",
              "               315,  333,  334,  345,  380,  384,  421,  462,  550,  563,  642,\n",
              "               648,  665,  671,  698,  767,  770,  885,  939, 1031, 1075, 1144,\n",
              "              1146, 1164, 1223, 1228, 1261, 1282, 1330, 1337, 1346, 1355, 1375,\n",
              "              1409, 1417, 1428, 1443, 1453, 1489, 1495, 1541, 1564, 1579, 1588,\n",
              "              1638, 1640, 1664, 1700, 1741, 1763, 1792, 1812, 1869, 1870, 1886,\n",
              "              1944, 1949, 1958, 1962, 1990, 2009, 2076, 2085, 2086, 2090, 2099,\n",
              "              2113, 2119, 2125, 2142, 2149, 2215, 2220, 2276, 2278, 2285, 2385,\n",
              "              2391, 2463, 2475, 2516, 2544, 2573, 2608, 2624, 2636, 2648, 2746,\n",
              "              2805, 2899, 2907, 2912, 2918, 2931, 2949, 2955, 2962, 2975, 3025,\n",
              "              3045, 3067, 3111, 3112, 3132, 3134, 3136, 3140, 3149, 3160, 3161,\n",
              "              3182, 3226, 3255, 3299, 3301, 3312, 3318, 3332, 3341, 3394, 3407,\n",
              "              3422, 3516, 3553, 3572, 3794, 3807, 3815, 3826, 3832, 3844, 3870,\n",
              "              3879, 3883, 3927, 3938, 3946, 3961, 3972, 3973, 3974, 3997, 4009,\n",
              "              4060, 4080, 4094, 4109, 4111, 4160, 4193, 4204, 4221, 4310, 4338,\n",
              "              4342, 4356, 4362, 4363, 4364, 4394, 4435, 4437, 4443, 4446, 4447,\n",
              "              4449, 4452, 4463, 4467, 4476, 4484, 4499, 4502, 4504, 4514, 4610,\n",
              "              4654, 4703, 4711, 4730, 4737, 4741, 4742, 4750, 4870, 4876, 4879,\n",
              "              4917, 4919, 4982, 4990, 4993, 4994], dtype=int32)                ,\n",
              "       array([  70,  100,  199,  230,  254,  275,  289,  421,  484,  551,  558,\n",
              "               642,  662,  900, 1054, 1269, 1558, 1654, 1812, 1840, 1843, 1870,\n",
              "              1885, 1908, 1930, 1962, 2034, 2063, 2076, 2090, 2120, 2129, 2142,\n",
              "              2143, 2149, 2179, 2205, 2220, 2243, 2285, 2336, 2359, 2385, 2387,\n",
              "              2394, 2463, 2555, 2687, 2739, 2792, 2802, 2804, 2921, 2955, 3010,\n",
              "              3024, 3045, 3067, 3111, 3155, 3166, 3815, 3961, 3967, 4004, 4075,\n",
              "              4079, 4089, 4124, 4250, 4366, 4437, 4449, 4452, 4463, 4502, 4504,\n",
              "              4514, 4517, 4529, 4530, 4593, 4609, 4610, 4619, 4693, 4696, 4815,\n",
              "              4819, 4836, 4870, 4875, 4917, 4970, 4972, 4990, 4993], dtype=int32)],\n",
              "      dtype=object)"
            ]
          },
          "metadata": {},
          "execution_count": 70
        }
      ],
      "source": [
        "X_train_Vect[:5]\n"
      ]
    },
    {
      "cell_type": "markdown",
      "metadata": {
        "id": "uVzx2GoVKdIc"
      },
      "source": [
        "# Read Pickle File"
      ]
    },
    {
      "cell_type": "code",
      "execution_count": 71,
      "metadata": {
        "id": "79aUa1WxKdIc"
      },
      "outputs": [],
      "source": [
        "# import pickle\n",
        "# def load_model():\n",
        "#     with open('data_IMDB_pickle.pkl', 'rb') as file:\n",
        "#         data = pickle.load(file)\n",
        "#     return data\n",
        "\n",
        "\n",
        "# data = load_model()\n",
        "# X_train = data['X_train']\n",
        "# y_train = data['y_train']\n",
        "# X_test = data['X_test']\n",
        "# y_test = data['y_test']\n"
      ]
    },
    {
      "cell_type": "code",
      "execution_count": 72,
      "metadata": {
        "colab": {
          "base_uri": "https://localhost:8080/"
        },
        "id": "kbuszMw0KdId",
        "outputId": "e516e8e6-ce94-4ae4-e2a1-821d8b5e9709"
      },
      "outputs": [
        {
          "output_type": "stream",
          "name": "stdout",
          "text": [
            "[ 102  108  244  289  478  550  648 1158 1337 1558 1707 2285 2463 2627\n",
            " 2758 2947 3067 3100 3111 3128 3132 3171 3363 3421 3553 3563 3566 3567\n",
            " 3828 3963 4167 4334 4437 4449 4452 4463 4514 4862 4990]\n",
            "39\n",
            "<class 'numpy.ndarray'>\n"
          ]
        }
      ],
      "source": [
        "# X_train = list(X_train)\n",
        "print(X_train_Vect[0])\n",
        "print(len(X_train_Vect[0]))\n",
        "print(type(X_train_Vect))\n"
      ]
    },
    {
      "cell_type": "code",
      "execution_count": 73,
      "metadata": {
        "colab": {
          "base_uri": "https://localhost:8080/"
        },
        "id": "2-e5YWfTKdIe",
        "outputId": "5b17e242-0a62-4873-8baa-b51d0b1484ff"
      },
      "outputs": [
        {
          "output_type": "stream",
          "name": "stdout",
          "text": [
            "21626    1\n",
            "4521     1\n",
            "3652     0\n",
            "22212    1\n",
            "17669    0\n",
            "35681    0\n",
            "38147    0\n",
            "2741     1\n",
            "27522    1\n",
            "46900    1\n",
            "Name: sentiment, dtype: int64\n",
            "<class 'pandas.core.series.Series'>\n"
          ]
        }
      ],
      "source": [
        "# y_train = list(y_train)\n",
        "print(y_train[:10])\n",
        "print(type(y_train))\n"
      ]
    },
    {
      "cell_type": "code",
      "execution_count": 74,
      "metadata": {
        "colab": {
          "base_uri": "https://localhost:8080/"
        },
        "id": "rtbTCMlJKdIe",
        "outputId": "a280508b-899d-4eb6-f2bc-77dfd4436129"
      },
      "outputs": [
        {
          "output_type": "stream",
          "name": "stdout",
          "text": [
            "25000\n",
            "25000\n",
            "25000\n",
            "25000\n"
          ]
        }
      ],
      "source": [
        "print(len(X_train_Vect))\n",
        "print(len(y_train)) \n",
        "print(len(X_test)) \n",
        "print(len(y_test)) \n"
      ]
    },
    {
      "cell_type": "code",
      "execution_count": 75,
      "metadata": {
        "colab": {
          "base_uri": "https://localhost:8080/"
        },
        "id": "2JrAnjs7KdIe",
        "outputId": "5f899f61-81ed-44ac-ba3f-954d5763ffa4"
      },
      "outputs": [
        {
          "output_type": "execute_result",
          "data": {
            "text/plain": [
              "array([array([ 102,  108,  244,  289,  478,  550,  648, 1158, 1337, 1558, 1707,\n",
              "              2285, 2463, 2627, 2758, 2947, 3067, 3100, 3111, 3128, 3132, 3171,\n",
              "              3363, 3421, 3553, 3563, 3566, 3567, 3828, 3963, 4167, 4334, 4437,\n",
              "              4449, 4452, 4463, 4514, 4862, 4990], dtype=int32)                ,\n",
              "       array([  70,  102,  191,  228,  230,  302,  315,  333,  364,  506,  563,\n",
              "               642,  671,  719,  767,  806,  911, 1045, 1059, 1144, 1186, 1268,\n",
              "              1344, 1492, 1568, 1645, 1812, 1870, 1880, 1909, 1962, 1990, 2034,\n",
              "              2076, 2085, 2090, 2119, 2142, 2149, 2236, 2251, 2285, 2351, 2385,\n",
              "              2391, 2491, 2512, 2569, 2582, 2620, 2716, 2746, 2770, 2914, 2947,\n",
              "              2975, 3025, 3067, 3099, 3111, 3127, 3144, 3172, 3174, 3215, 3252,\n",
              "              3320, 3577, 3700, 3815, 3855, 3922, 3923, 3938, 3963, 4125, 4243,\n",
              "              4257, 4275, 4435, 4437, 4463, 4468, 4514, 4519, 4606, 4737, 4754,\n",
              "              4787, 4815, 4854, 4866, 4870, 4875, 4876, 4890, 4917, 4957, 4975,\n",
              "              4976, 4990, 4991], dtype=int32)                                  ,\n",
              "       array([  24,   61,   70,  102,  107,  169,  172,  191,  198,  204,  228,\n",
              "               230,  289,  315,  333,  384,  441,  456,  470,  479,  502,  642,\n",
              "               712,  719,  938, 1031, 1118, 1176, 1194, 1243, 1268, 1292, 1337,\n",
              "              1340, 1344, 1443, 1453, 1544, 1635, 1654, 1677, 1719, 1749, 1812,\n",
              "              1846, 1870, 1878, 1926, 1952, 1962, 2034, 2076, 2090, 2102, 2113,\n",
              "              2158, 2198, 2213, 2243, 2285, 2385, 2387, 2389, 2391, 2429, 2431,\n",
              "              2463, 2481, 2516, 2608, 2627, 2674, 2737, 2758, 2804, 2947, 2948,\n",
              "              2955, 2975, 3111, 3132, 3136, 3144, 3160, 3166, 3172, 3347, 3407,\n",
              "              3423, 3547, 3572, 3576, 3826, 3873, 3955, 4111, 4165, 4204, 4283,\n",
              "              4370, 4437, 4449, 4451, 4452, 4459, 4463, 4514, 4515, 4529, 4573,\n",
              "              4690, 4706, 4737, 4814, 4815, 4858, 4866, 4875, 4879, 4881, 4901,\n",
              "              4917, 4965], dtype=int32)                                        ,\n",
              "       ...,\n",
              "       array([  24,  113,  148,  191,  213,  228,  230,  251,  289,  311,  315,\n",
              "               334,  421,  441,  492,  538,  563,  642,  648,  719,  783,  858,\n",
              "              1026, 1031, 1251, 1328, 1336, 1351, 1489, 1544, 1621, 1695, 1721,\n",
              "              1741, 1742, 1749, 1763, 1870, 1962, 1990, 2012, 2076, 2085, 2210,\n",
              "              2251, 2285, 2375, 2385, 2391, 2394, 2463, 2506, 2758, 2875, 2877,\n",
              "              2927, 2931, 3002, 3015, 3031, 3067, 3072, 3079, 3111, 3132, 3134,\n",
              "              3155, 3200, 3215, 3560, 3618, 3676, 3689, 3771, 3828, 4192, 4204,\n",
              "              4221, 4322, 4365, 4437, 4441, 4449, 4463, 4470, 4476, 4502, 4514,\n",
              "              4529, 4594, 4610, 4619, 4655, 4686, 4737, 4782, 4854, 4875, 4879,\n",
              "              4881, 4917, 4982], dtype=int32)                                  ,\n",
              "       array([ 151,  191,  211,  230,  289,  470,  481,  642,  680,  905, 1037,\n",
              "              1144, 1268, 1275, 1304, 1448, 1503, 1529, 1563, 1671, 1721, 1741,\n",
              "              1763, 1767, 1812, 1870, 1919, 2034, 2076, 2196, 2245, 2251, 2266,\n",
              "              2285, 2391, 2439, 2516, 2549, 2577, 2607, 2695, 2723, 2784, 2914,\n",
              "              3045, 3067, 3111, 3128, 3132, 3215, 3255, 3347, 3470, 3563, 3810,\n",
              "              3828, 3844, 3871, 3879, 3903, 3911, 3970, 4075, 4079, 4082, 4221,\n",
              "              4435, 4437, 4451, 4461, 4463, 4468, 4469, 4502, 4514, 4529, 4619,\n",
              "              4629, 4780, 4815, 4822, 4836, 4854, 4857, 4858, 4917, 4932, 4972,\n",
              "              4976, 4988, 4990, 4994], dtype=int32)                            ,\n",
              "       array([ 220,  228,  230,  289,  315,  342,  407,  434,  476,  481,  558,\n",
              "               588,  657,  732,  769,  962, 1112, 1192, 1330, 1369, 1412, 1521,\n",
              "              1579, 1679, 1699, 1812, 1908, 1910, 1970, 2076, 2090, 2230, 2285,\n",
              "              2385, 2580, 2603, 2652, 2707, 2723, 2758, 2766, 2873, 2895, 2955,\n",
              "              3031, 3067, 3111, 3132, 3172, 3396, 3479, 3500, 3504, 3542, 3563,\n",
              "              3567, 3664, 3807, 3911, 3933, 3942, 3967, 3974, 4060, 4223, 4300,\n",
              "              4318, 4329, 4342, 4431, 4435, 4437, 4451, 4463, 4479, 4514, 4606,\n",
              "              4619, 4629, 4696, 4697, 4752, 4754, 4815, 4835, 4836, 4853, 4854,\n",
              "              4858, 4866, 4875, 4893, 4961], dtype=int32)                      ],\n",
              "      dtype=object)"
            ]
          },
          "metadata": {},
          "execution_count": 75
        }
      ],
      "source": [
        "X_train_Vect"
      ]
    },
    {
      "cell_type": "code",
      "execution_count": 76,
      "metadata": {
        "colab": {
          "base_uri": "https://localhost:8080/"
        },
        "id": "kOH_G_zpKdIf",
        "outputId": "a37803ff-2492-4865-c7df-9ad681b70cb7"
      },
      "outputs": [
        {
          "output_type": "stream",
          "name": "stdout",
          "text": [
            "<class 'numpy.ndarray'>\n",
            "<class 'pandas.core.series.Series'>\n",
            "<class 'pandas.core.series.Series'>\n",
            "<class 'pandas.core.series.Series'>\n"
          ]
        }
      ],
      "source": [
        "print(type(X_train_Vect))\n",
        "print(type(y_train))\n",
        "print(type(X_test))\n",
        "print(type(y_test))\n"
      ]
    },
    {
      "cell_type": "code",
      "execution_count": 77,
      "metadata": {
        "colab": {
          "base_uri": "https://localhost:8080/"
        },
        "id": "JL_-SUxaKdIf",
        "outputId": "5261b8ad-6be8-4c07-fb9d-9c253afc562e"
      },
      "outputs": [
        {
          "output_type": "stream",
          "name": "stdout",
          "text": [
            "<class 'numpy.ndarray'>\n",
            "<class 'numpy.ndarray'>\n",
            "<class 'numpy.ndarray'>\n",
            "<class 'numpy.ndarray'>\n"
          ]
        }
      ],
      "source": [
        "print(type(X_train_Vect))\n",
        "\n",
        "y_train = numpy.array(y_train)\n",
        "# y_train = list(y_train)\n",
        "print(type(y_train))\n",
        "\n",
        "print(type(X_test_Vect))\n",
        "\n",
        "y_test = numpy.array(y_test)\n",
        "# y_test = list(y_test)\n",
        "print(type(y_test))\n"
      ]
    },
    {
      "cell_type": "code",
      "execution_count": 78,
      "metadata": {
        "id": "wn1coShH7LvP"
      },
      "outputs": [],
      "source": [
        "# max(numpy.max(X_test_Vect))"
      ]
    },
    {
      "cell_type": "markdown",
      "metadata": {
        "id": "NVZW0Xr_KdIg"
      },
      "source": [
        "# Truncate and/or pad input sequences"
      ]
    },
    {
      "cell_type": "code",
      "execution_count": 79,
      "metadata": {
        "colab": {
          "base_uri": "https://localhost:8080/"
        },
        "id": "57N6TyKLH-Pc",
        "outputId": "d7f3a706-4b7b-44aa-b957-d26717782c15"
      },
      "outputs": [
        {
          "output_type": "stream",
          "name": "stdout",
          "text": [
            "(25000, 600)\n"
          ]
        }
      ],
      "source": [
        "# truncate and/or pad input sequences\n",
        "max_review_length = 600\n",
        "X_train_Vect = sequence.pad_sequences(X_train_Vect, maxlen=max_review_length)\n",
        "X_test_Vect = sequence.pad_sequences(X_test_Vect, maxlen=max_review_length)\n",
        "\n",
        "print(X_train_Vect.shape)\n"
      ]
    },
    {
      "cell_type": "markdown",
      "metadata": {
        "id": "BuSTGpjoKdIh"
      },
      "source": [
        "# Create the model"
      ]
    },
    {
      "cell_type": "code",
      "execution_count": 80,
      "metadata": {
        "colab": {
          "base_uri": "https://localhost:8080/"
        },
        "id": "jQzUOGxSKdIh",
        "outputId": "9499091a-0b92-45de-986b-550e7bcaea20"
      },
      "outputs": [
        {
          "output_type": "execute_result",
          "data": {
            "text/plain": [
              "<keras.engine.sequential.Sequential at 0x7f4e281803d0>"
            ]
          },
          "metadata": {},
          "execution_count": 80
        }
      ],
      "source": [
        "Sequential()\n"
      ]
    },
    {
      "cell_type": "code",
      "execution_count": 81,
      "metadata": {
        "id": "lcxhzYcsKdIh"
      },
      "outputs": [],
      "source": [
        "# from keras import metrics\n",
        "# model.compile(loss='mse', optimizer='adam', metrics=[\n",
        "#               metrics.mean_squared_error, metrics.mean_absolute_error, metrics.mean_absolute_percentage_error, metrics.cosine_proximity])\n"
      ]
    },
    {
      "cell_type": "code",
      "execution_count": 82,
      "metadata": {
        "colab": {
          "base_uri": "https://localhost:8080/"
        },
        "id": "CquzlqrOIYGn",
        "outputId": "1965331c-53e0-4ab3-f6cc-cd56573dd7d6"
      },
      "outputs": [
        {
          "output_type": "stream",
          "name": "stdout",
          "text": [
            "Model: \"sequential_4\"\n",
            "_________________________________________________________________\n",
            " Layer (type)                Output Shape              Param #   \n",
            "=================================================================\n",
            " embedding_2 (Embedding)     (None, 600, 32)           160000    \n",
            "                                                                 \n",
            " lstm_2 (LSTM)               (None, 100)               53200     \n",
            "                                                                 \n",
            " dense_2 (Dense)             (None, 1)                 101       \n",
            "                                                                 \n",
            "=================================================================\n",
            "Total params: 213,301\n",
            "Trainable params: 213,301\n",
            "Non-trainable params: 0\n",
            "_________________________________________________________________\n",
            "None\n"
          ]
        }
      ],
      "source": [
        "\n",
        "top_words = 5000\n",
        "embedding_vecor_length = 32\n",
        "model = Sequential()\n",
        "model.add(Embedding(top_words, embedding_vecor_length, input_length=max_review_length))\n",
        "model.add(LSTM(100))\n",
        "model.add(Dense(1, activation='sigmoid'))\n",
        "model.compile(loss='binary_crossentropy', optimizer='adam', metrics=['accuracy'])\n",
        "print(model.summary())\n"
      ]
    },
    {
      "cell_type": "markdown",
      "metadata": {
        "id": "OhZrJAINKdIi"
      },
      "source": [
        "# Final evaluation of the model"
      ]
    },
    {
      "cell_type": "code",
      "execution_count": 83,
      "metadata": {
        "colab": {
          "base_uri": "https://localhost:8080/"
        },
        "id": "A_FT0dPNIeLP",
        "outputId": "c11790ab-12fc-40c6-e515-e695649a8ad4"
      },
      "outputs": [
        {
          "output_type": "stream",
          "name": "stdout",
          "text": [
            "Epoch 1/10\n",
            "391/391 [==============================] - 14s 32ms/step - loss: 0.4486 - accuracy: 0.7818\n",
            "Epoch 2/10\n",
            "391/391 [==============================] - 12s 30ms/step - loss: 0.2887 - accuracy: 0.8836\n",
            "Epoch 3/10\n",
            "391/391 [==============================] - 11s 29ms/step - loss: 0.2376 - accuracy: 0.9105\n",
            "Epoch 4/10\n",
            "391/391 [==============================] - 11s 29ms/step - loss: 0.2095 - accuracy: 0.9232\n",
            "Epoch 5/10\n",
            "391/391 [==============================] - 11s 29ms/step - loss: 0.1932 - accuracy: 0.9293\n",
            "Epoch 6/10\n",
            "391/391 [==============================] - 11s 29ms/step - loss: 0.1758 - accuracy: 0.9388\n",
            "Epoch 7/10\n",
            "391/391 [==============================] - 11s 29ms/step - loss: 0.1577 - accuracy: 0.9452\n",
            "Epoch 8/10\n",
            "391/391 [==============================] - 11s 29ms/step - loss: 0.1344 - accuracy: 0.9554\n",
            "Epoch 9/10\n",
            "391/391 [==============================] - 11s 29ms/step - loss: 0.1283 - accuracy: 0.9586\n",
            "Epoch 10/10\n",
            "391/391 [==============================] - 12s 32ms/step - loss: 0.1174 - accuracy: 0.9618\n",
            "Accuracy: 85.18%\n"
          ]
        }
      ],
      "source": [
        "history = model.fit(X_train_Vect, y_train, epochs=10, batch_size=64)\n",
        "# Final evaluation of the model\n",
        "scores = model.evaluate(X_test_Vect, y_test, verbose=0)\n",
        "print(\"Accuracy: %.2f%%\" % (scores[1]*100))\n"
      ]
    },
    {
      "cell_type": "code",
      "execution_count": 84,
      "metadata": {
        "colab": {
          "base_uri": "https://localhost:8080/"
        },
        "id": "_mmt1_6RKdIj",
        "outputId": "5827cdda-77e0-4498-cb32-7ec7d84af329"
      },
      "outputs": [
        {
          "output_type": "execute_result",
          "data": {
            "text/plain": [
              "<keras.engine.sequential.Sequential at 0x7f4e28184790>"
            ]
          },
          "metadata": {},
          "execution_count": 84
        }
      ],
      "source": [
        "model "
      ]
    },
    {
      "cell_type": "code",
      "execution_count": 85,
      "metadata": {
        "colab": {
          "base_uri": "https://localhost:8080/"
        },
        "id": "Z_GlL1mxKdIk",
        "outputId": "a58184be-2cca-4c54-d111-50548b0cd0c7"
      },
      "outputs": [
        {
          "output_type": "stream",
          "name": "stdout",
          "text": [
            "0.017955057\n",
            "negative\n"
          ]
        }
      ],
      "source": [
        "sample = [\"This was  movie. worst\"]\n",
        "# sample = [\"\"\"\n",
        "#          If you keep rigid historical perspective out of it, this film is actually quite entertaining. It's got action, adventure and romance, and one of the premiere casting match-ups of the era with Errol Flynn and Olivia de Havilland in the lead roles. As evident on this board, the picture doesn't pass muster with purists who look for one hundred percent accuracy in their story telling. To get beyond that, one need only put aside the history book, and enjoy the story as if it were a work of fiction. I know, I know, that's hard to do when you consider Custer's Last Stand at the Little Big Horn and it's prominence in the history of post Civil War America. So I guess there's an unresolved quandary with the picture, no matter how you look at it.<br /><br />There's a lot to take in here though for the picture's two hour plus run time. Custer's arrival at West Point is probably the first head scratcher, riding up as he does in full military regalia. The practical joke by Sharp (Arthur Kennedy) putting him up in the Major's headquarters probably should have gotten them both in trouble.<br /><br />Ironically, a lot of scenes in this military film play for comedy, as in Custer's first meeting with Libby Bacon, and subsequent encounters that include tea reader Callie (Hattie McDaniel). I hadn't noticed it before in other films, but McDaniel reminded me an awful lot of another favorite character actor of mine from the Forties, Mantan Moreland. So much so that in one scene it looked like it might have been Moreland hamming it up in a dress. With that in mind, the owl scene was a hoot too.<br /><br />As for Flynn, it's interesting to note that a year earlier, he portrayed J.E.B. Stuart opposite Ronald Reagan's depiction of General Custer in \"Santa Fe Trail\", both vying for the attention of none other than Olivia de Havilland. In that film, Reagan put none of the arrogance and flamboyance into the character of Custer that history remembers, while in Flynn's portrayal here it's more than evident. But it doesn't come close to that of Richard Mulligan's take on the military hero in 1970's \"Little Big Man\". Let's just say that one was a bit over the top.<br /><br />The better take away the picture had for me was the manner in which Custer persevered to maintain his good name and not gamble it away on a risky business venture. That and his loyalty to the men he led in battle along with the discipline he developed over the course of the story. Most poignant was that final confrontation with arch rival Sharp just before riding into the Little Big Horn, in which he declared that hell or glory was entirely dependent on one's point of view. Earlier, a similar remark might have given us the best insight of all into Custer's character, when he stated - \"You take glory with you when it's your time to go\".\n",
        "# \"\"\"]\n",
        "sample = helper.transform(sample).nonzero()[1]\n",
        "sample = sequence.pad_sequences([sample], maxlen=max_review_length)\n",
        "val = model.predict(sample)\n",
        "print(val[0][0])\n",
        "if(val>=0.5):\n",
        "    print(\"positive\")\n",
        "else:\n",
        "    print(\"negative\")\n"
      ]
    },
    {
      "cell_type": "code",
      "execution_count": 86,
      "metadata": {
        "colab": {
          "base_uri": "https://localhost:8080/"
        },
        "id": "ysDZCzLUKdIl",
        "outputId": "bcbe3e03-b96b-43fc-f309-fb1f69805ed1"
      },
      "outputs": [
        {
          "output_type": "stream",
          "name": "stderr",
          "text": [
            "WARNING:absl:Found untraced functions such as lstm_cell_2_layer_call_fn, lstm_cell_2_layer_call_and_return_conditional_losses while saving (showing 2 of 2). These functions will not be directly callable after loading.\n",
            "WARNING:absl:<keras.layers.recurrent.LSTMCell object at 0x7f4dac09e750> has the same name 'LSTMCell' as a built-in Keras object. Consider renaming <class 'keras.layers.recurrent.LSTMCell'> to avoid naming conflicts when loading with `tf.keras.models.load_model`. If renaming is not possible, pass the object in the `custom_objects` parameter of the load function.\n"
          ]
        }
      ],
      "source": [
        "import pickle\n",
        "data_IMDB = {\"helper\": helper, \"model\": model}\n",
        "with open('/data_IMDB_pickle_CountVectorizer.pkl', 'wb') as file:\n",
        "    pickle.dump(data_IMDB, file)\n"
      ]
    },
    {
      "cell_type": "code",
      "execution_count": 87,
      "metadata": {
        "colab": {
          "base_uri": "https://localhost:8080/",
          "height": 295
        },
        "id": "oH4sC2csKdIl",
        "outputId": "4c1a6c1a-2554-4452-8225-24d35af9e949"
      },
      "outputs": [
        {
          "output_type": "display_data",
          "data": {
            "text/plain": [
              "<Figure size 432x288 with 1 Axes>"
            ],
            "image/png": "[encoded data removed]"
          },
          "metadata": {
            "needs_background": "light"
          }
        }
      ],
      "source": [
        "import matplotlib.pyplot as plt\n",
        "plt.plot(history.history['accuracy'])\n",
        "plt.title(\"Epochs vs Accuracy\")\n",
        "plt.xlabel(\"Number of epochs\")\n",
        "plt.ylabel(\"Accuracy score\")\n",
        "plt.show()\n"
      ]
    },
    {
      "cell_type": "code",
      "execution_count": 87,
      "metadata": {
        "id": "SkjJsCuuKdIl"
      },
      "outputs": [],
      "source": [
        ""
      ]
    }
  ],
  "metadata": {
    "accelerator": "GPU",
    "colab": {
      "collapsed_sections": [],
      "name": "LSTM_IMDB_Count_Vectorizer.ipynb",
      "provenance": []
    },
    "kernelspec": {
      "display_name": "Python 3.9.6 64-bit",
      "language": "python",
      "name": "python3"
    },
    "language_info": {
      "codemirror_mode": {
        "name": "ipython",
        "version": 3
      },
      "file_extension": ".py",
      "mimetype": "text/x-python",
      "name": "python",
      "nbconvert_exporter": "python",
      "pygments_lexer": "ipython3",
      "version": "3.9.6"
    },
    "vscode": {
      "interpreter": {
        "hash": "4586486822f320ea9db752faf16167f7e007a8d174a4de7428e619083981a73d"
      }
    }
  },
  "nbformat": 4,
  "nbformat_minor": 0
}